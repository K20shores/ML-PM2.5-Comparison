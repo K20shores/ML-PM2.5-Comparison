{
 "cells": [
  {
   "cell_type": "code",
   "execution_count": 1,
   "id": "4bc6020a",
   "metadata": {
    "ExecuteTime": {
     "end_time": "2022-11-05T19:17:08.395861Z",
     "start_time": "2022-11-05T19:17:06.715428Z"
    }
   },
   "outputs": [],
   "source": [
    "import xarray as xr\n",
    "import os\n",
    "from tqdm.notebook import tqdm"
   ]
  },
  {
   "cell_type": "code",
   "execution_count": null,
   "id": "c0100716",
   "metadata": {
    "ExecuteTime": {
     "end_time": "2022-11-05T18:46:44.029912Z",
     "start_time": "2022-11-05T18:46:01.314122Z"
    }
   },
   "outputs": [],
   "source": [
    "for year in range(2017, 2023):\n",
    "    path = f'/Volumes/Minuet/research/ERA5/era5_pblh_{year}.nc'\n",
    "    with xr.open_dataset(path) as blh:\n",
    "        blh.load()\n",
    "    blh.resample(time='1d').mean().to_netcdf(f'/Volumes/Minuet/research/ERA5/era5_pblh_{year}-averaged.nc')"
   ]
  },
  {
   "cell_type": "code",
   "execution_count": null,
   "id": "95bd2b90",
   "metadata": {
    "ExecuteTime": {
     "end_time": "2022-11-05T19:34:14.625055Z",
     "start_time": "2022-11-05T19:17:10.333810Z"
    }
   },
   "outputs": [],
   "source": [
    "pbar = tqdm([(y, m) for y in range(2017, 2023) for m in range(1, 13)])\n",
    "for year, month in pbar:\n",
    "    pbar.set_description(f'{year}/{month}')\n",
    "    if os.path.exists(f'/Volumes/Minuet/research/ERA5/era5_land/era5_land_{year}{month:02}-averaged.nc'):\n",
    "        continue\n",
    "    path = f'/Volumes/Minuet/research/ERA5/era5_land/era5_land_{year}{month:02}.nc'\n",
    "    with xr.open_dataset(path) as met:\n",
    "        met.load()\n",
    "    met.resample(time='1d').mean(\n",
    "    ).to_netcdf(f'/Volumes/Minuet/research/ERA5/era5_land/era5_land_{year}{month:02}-averaged.nc')"
   ]
  },
  {
   "cell_type": "code",
   "execution_count": null,
   "id": "98c33b3d",
   "metadata": {},
   "outputs": [],
   "source": []
  }
 ],
 "metadata": {
  "kernelspec": {
   "display_name": "Python 3 (ipykernel)",
   "language": "python",
   "name": "python3"
  },
  "language_info": {
   "codemirror_mode": {
    "name": "ipython",
    "version": 3
   },
   "file_extension": ".py",
   "mimetype": "text/x-python",
   "name": "python",
   "nbconvert_exporter": "python",
   "pygments_lexer": "ipython3",
   "version": "3.10.6"
  }
 },
 "nbformat": 4,
 "nbformat_minor": 5
}
