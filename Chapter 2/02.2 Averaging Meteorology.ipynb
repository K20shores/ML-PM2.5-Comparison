{
 "cells": [
  {
   "cell_type": "code",
   "execution_count": 1,
   "id": "0166702d",
   "metadata": {
    "ExecuteTime": {
     "end_time": "2022-11-05T17:35:54.617444Z",
     "start_time": "2022-11-05T17:35:53.034690Z"
    }
   },
   "outputs": [],
   "source": [
    "import xarray as xr"
   ]
  },
  {
   "cell_type": "code",
   "execution_count": 2,
   "id": "89781786",
   "metadata": {
    "ExecuteTime": {
     "end_time": "2022-11-05T17:40:01.552872Z",
     "start_time": "2022-11-05T17:38:12.396652Z"
    }
   },
   "outputs": [],
   "source": [
    "for year in range(2017, 2023):\n",
    "    path = f'/Volumes/Minuet/research/ERA5/era5_pblh_{year}.nc'\n",
    "    with xr.open_dataset(path) as blh:\n",
    "                blh.load()\n",
    "    blh.resample(time='1d').mean().to_netcdf(f'/Volumes/Minuet/research/ERA5/era5_pblh_{year}-averaged.nc')"
   ]
  },
  {
   "cell_type": "code",
   "execution_count": null,
   "id": "a731efbd",
   "metadata": {
    "ExecuteTime": {
     "start_time": "2022-11-05T17:39:50.927Z"
    }
   },
   "outputs": [],
   "source": [
    "for year in range(2017, 2023):\n",
    "    for month in range(1,13):\n",
    "        path = f'/Volumes/Minuet/research/ERA5/era5_land/era5_land_{year}{month:02}.nc'\n",
    "        with xr.open_dataset(path) as met:\n",
    "                    met.load()\n",
    "        met.resample(time='1d').mean(\n",
    "        ).to_netcdf(f'/Volumes/Minuet/research/ERA5/era5_land/era5_land_{year}{month:02}-averaged.nc')"
   ]
  },
  {
   "cell_type": "code",
   "execution_count": null,
   "id": "be40f1a1",
   "metadata": {},
   "outputs": [],
   "source": []
  }
 ],
 "metadata": {
  "kernelspec": {
   "display_name": "Python 3 (ipykernel)",
   "language": "python",
   "name": "python3"
  },
  "language_info": {
   "codemirror_mode": {
    "name": "ipython",
    "version": 3
   },
   "file_extension": ".py",
   "mimetype": "text/x-python",
   "name": "python",
   "nbconvert_exporter": "python",
   "pygments_lexer": "ipython3",
   "version": "3.10.6"
  }
 },
 "nbformat": 4,
 "nbformat_minor": 5
}
