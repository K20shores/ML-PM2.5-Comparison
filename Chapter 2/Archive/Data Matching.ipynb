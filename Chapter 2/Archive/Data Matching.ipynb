{
 "cells": [
  {
   "cell_type": "code",
   "execution_count": null,
   "id": "3327994e",
   "metadata": {
    "ExecuteTime": {
     "end_time": "2022-06-28T16:23:25.090074Z",
     "start_time": "2022-06-28T16:23:25.090043Z"
    }
   },
   "outputs": [],
   "source": [
    "import metpy\n",
    "import datetime\n",
    "import rioxarray\n",
    "import os\n",
    "import hvplot.xarray\n",
    "import hvplot.pandas\n",
    "import hvplot\n",
    "import glob\n",
    "import warnings\n",
    "\n",
    "import geopandas as gpd\n",
    "import xarray as xr\n",
    "import numpy as np\n",
    "import cartopy.crs as ccrs\n",
    "import matplotlib.pyplot as plt\n",
    "import pandas as pd\n",
    "import cartopy.feature as cfeature\n",
    "\n",
    "from pyproj import Proj\n",
    "from tqdm.notebook import tqdm\n",
    "from shapely.geometry import mapping\n",
    "from dask import delayed\n",
    "from dask.distributed import Client\n",
    "from holoviews import opts\n",
    "\n",
    "from plotting import histogram_density_plot"
   ]
  },
  {
   "cell_type": "code",
   "execution_count": null,
   "id": "51cc2f94",
   "metadata": {
    "ExecuteTime": {
     "end_time": "2022-06-28T16:22:42.895323Z",
     "start_time": "2022-06-28T16:22:42.895189Z"
    }
   },
   "outputs": [],
   "source": [
    "dates = pd.date_range(start='2021-01-01', end='2022-01-01', freq='1d', inclusive=\"left\", tz='GMT').values\n",
    "files = {}\n",
    "for i in dates:\n",
    "    date = f'{pd.to_datetime(i).dayofyear:03}'\n",
    "    files[date] = sorted(glob.glob(f'/Volumes/Shores/GOES/AODC/averages/2021/{date}/*.nc'))"
   ]
  },
  {
   "cell_type": "code",
   "execution_count": null,
   "id": "5291d10f",
   "metadata": {
    "ExecuteTime": {
     "end_time": "2022-06-28T16:22:43.361763Z",
     "start_time": "2022-06-28T16:22:43.361734Z"
    }
   },
   "outputs": [],
   "source": [
    "aod = xr.open_dataset(\n",
    "    files['001'][0]\n",
    ")"
   ]
  },
  {
   "cell_type": "code",
   "execution_count": null,
   "id": "5d296f5f",
   "metadata": {
    "ExecuteTime": {
     "end_time": "2022-06-28T16:22:43.878369Z",
     "start_time": "2022-06-28T16:22:43.878343Z"
    }
   },
   "outputs": [],
   "source": [
    "geo = ccrs.Geostationary(\n",
    "    central_longitude=aod.goes_imager_projection.longitude_of_projection_origin,\n",
    "    satellite_height=aod.goes_imager_projection.perspective_point_height,\n",
    "    sweep_axis=aod.goes_imager_projection.sweep_angle_axis\n",
    ")"
   ]
  },
  {
   "cell_type": "code",
   "execution_count": null,
   "id": "eb0311bf",
   "metadata": {
    "ExecuteTime": {
     "end_time": "2022-06-28T16:22:44.611287Z",
     "start_time": "2022-06-28T16:22:44.611256Z"
    }
   },
   "outputs": [],
   "source": [
    "plate = ccrs.PlateCarree()"
   ]
  },
  {
   "cell_type": "code",
   "execution_count": 6,
   "id": "5784d197",
   "metadata": {
    "ExecuteTime": {
     "end_time": "2022-06-28T16:22:17.185256Z",
     "start_time": "2022-06-28T15:33:09.439562Z"
    }
   },
   "outputs": [
    {
     "name": "stderr",
     "output_type": "stream",
     "text": [
      "\n",
      "KeyboardInterrupt\n",
      "\n"
     ]
    }
   ],
   "source": [
    "for k, vs in files.items():\n",
    "    ds = xr.open_mfdataset(\n",
    "        vs,\n",
    "        concat_dim=\"t\", \n",
    "        parallel=True, \n",
    "        combine='nested',\n",
    "        data_vars='different',\n",
    "    ).compute()\n",
    "    sat_h = ds.goes_imager_projection.perspective_point_height\n",
    "    ds = ds.assign_coords(x=ds.x*sat_h, y = ds.y*sat_h)\n",
    "    \n",
    "    ds2 = xr.open_dataset(f'/Volumes/Shores/EPA/daily_epa/{k}.nc')\n",
    "    ds2 = ds2.rename_dims({'time': 't', 'latitude': 'y', 'longitude': 'x'})\n",
    "    ds2 = ds2.where(ds2.time.isin(ds.t), drop=True)\n",
    "    \n",
    "    # transpose to make the coordinates align\n",
    "    ds['PM2.5'] = ds2['PM2.5'].transpose()\n",
    "    \n",
    "    df = ds.drop_vars(['y_image',\n",
    "     'x_image',\n",
    "     'sunglint_angle',\n",
    "     'retrieval_local_zenith_angle',\n",
    "     'quantitative_local_zenith_angle',\n",
    "     'retrieval_solar_zenith_angle',\n",
    "     'quantitative_solar_zenith_angle',\n",
    "     'aod_product_wavelength'])[['AOD', 'PM2.5']]\\\n",
    "        .to_dataframe().reset_index().drop(['t', 'y', 'x'], axis=1).dropna()\n",
    "    \n",
    "    latlon = plate.transform_points(src_crs=geo, x=df['longitude'], y=df['latitude'])\n",
    "    df['longitude'] = latlon[:,0]\n",
    "    df['latitude'] = latlon[:,1]\n",
    "    df.to_csv(f'/Volumes/Shores/Matched/{k}.csv')"
   ]
  }
 ],
 "metadata": {
  "kernelspec": {
   "display_name": "Python 3 (ipykernel)",
   "language": "python",
   "name": "python3"
  },
  "language_info": {
   "codemirror_mode": {
    "name": "ipython",
    "version": 3
   },
   "file_extension": ".py",
   "mimetype": "text/x-python",
   "name": "python",
   "nbconvert_exporter": "python",
   "pygments_lexer": "ipython3",
   "version": "3.10.4"
  }
 },
 "nbformat": 4,
 "nbformat_minor": 5
}
