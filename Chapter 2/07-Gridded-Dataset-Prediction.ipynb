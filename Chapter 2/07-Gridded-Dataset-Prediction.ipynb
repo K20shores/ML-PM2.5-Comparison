{
 "cells": [
  {
   "cell_type": "code",
   "execution_count": null,
   "id": "bc41772e",
   "metadata": {
    "ExecuteTime": {
     "end_time": "2022-11-22T17:23:37.922455Z",
     "start_time": "2022-11-22T17:23:34.565814Z"
    }
   },
   "outputs": [],
   "source": [
    "import pandas as pd\n",
    "import numpy as np\n",
    "import matplotlib.pyplot as plt\n",
    "import xarray as xr\n",
    "import metpy\n",
    "import cartopy.crs as ccrs\n",
    "import glob\n",
    "import geopandas as gpd\n",
    "import os\n",
    "\n",
    "from model_collection import ModelCollection\n",
    "\n",
    "#https://stackoverflow.com/a/64823806/5217293\n",
    "import joblib\n",
    "\n",
    "from tqdm.notebook import tqdm\n",
    "\n",
    "from IPython.display import HTML, display\n",
    "from matplotlib import animation\n",
    "import cartopy.feature as cfeature\n",
    "import matplotlib \n",
    "import matplotlib.cm as cm\n",
    "import string\n",
    "matplotlib.rcParams['animation.embed_limit'] = 2**128\n",
    "\n",
    "save_path = '/Users/kyle/GoogleDrive/College/Graduate/Thesis/Figures and Data/tuned_models'"
   ]
  },
  {
   "cell_type": "code",
   "execution_count": null,
   "id": "a2bc6625",
   "metadata": {
    "ExecuteTime": {
     "end_time": "2022-11-22T17:23:38.572674Z",
     "start_time": "2022-11-22T17:23:38.569800Z"
    }
   },
   "outputs": [],
   "source": [
    "mc = ModelCollection.__new__(ModelCollection)"
   ]
  },
  {
   "cell_type": "code",
   "execution_count": null,
   "id": "7aa68ab1",
   "metadata": {
    "ExecuteTime": {
     "end_time": "2022-11-22T17:24:48.084768Z",
     "start_time": "2022-11-22T17:23:39.170001Z"
    }
   },
   "outputs": [],
   "source": [
    "mc.load('figures_and_data/trained-models-all_years.pcl')"
   ]
  },
  {
   "cell_type": "markdown",
   "id": "ddbf1c8e",
   "metadata": {},
   "source": [
    "# Predicting the Gridded Dataset"
   ]
  },
  {
   "cell_type": "code",
   "execution_count": null,
   "id": "56f5f218",
   "metadata": {
    "ExecuteTime": {
     "end_time": "2022-11-22T16:07:15.091235Z",
     "start_time": "2022-11-22T16:07:15.085869Z"
    }
   },
   "outputs": [],
   "source": [
    "files = sorted(glob.glob(f'/Volumes/Canon/matched/2021/*.nc'))"
   ]
  },
  {
   "cell_type": "code",
   "execution_count": null,
   "id": "5414f468",
   "metadata": {
    "ExecuteTime": {
     "end_time": "2022-11-22T16:07:21.022376Z",
     "start_time": "2022-11-22T16:07:15.500833Z"
    }
   },
   "outputs": [],
   "source": [
    "with xr.open_dataset(files[0]) as aod:\n",
    "    aod.load()"
   ]
  },
  {
   "cell_type": "code",
   "execution_count": null,
   "id": "be0b1b0d",
   "metadata": {
    "ExecuteTime": {
     "end_time": "2022-11-22T16:07:23.411557Z",
     "start_time": "2022-11-22T16:07:23.195724Z"
    }
   },
   "outputs": [],
   "source": [
    "geo = aod.metpy.parse_cf('AOD').metpy.cartopy_crs\n",
    "plate = ccrs.PlateCarree()\n",
    "equal_area = ccrs.AlbersEqualArea(central_latitude=39.8283, central_longitude=-98.5795)"
   ]
  },
  {
   "cell_type": "code",
   "execution_count": null,
   "id": "dff42734",
   "metadata": {
    "ExecuteTime": {
     "end_time": "2022-11-22T17:52:14.679476Z",
     "start_time": "2022-11-22T17:39:23.238215Z"
    }
   },
   "outputs": [],
   "source": [
    "cols = ['AOD','lat','lon','u10','v10','d2m','t2m','lai_hv','lai_lv','skt','sp','tp','blh','month_1','month_2','month_3','month_4','month_5','month_6','month_7','month_8','month_9','month_10','month_11','month_12']\n",
    "\n",
    "for year in range(2017, 2022):\n",
    "    files = sorted(glob.glob(f'/Volumes/Canon/matched/{year}/*.nc'))\n",
    "    \n",
    "    pbar = tqdm(files)\n",
    "    for day in pbar:\n",
    "        pbar.set_description(day)\n",
    "        with xr.open_dataset(day) as ds:\n",
    "            ds.load()\n",
    "            \n",
    "        save_dir = f'/Volumes/Canon/predictions/{year}'\n",
    "        save_path = os.path.join(save_dir, f'{pd.to_datetime(ds.time.item()).day_of_year:03}.nc')\n",
    "        if os.path.exists(save_path):\n",
    "            continue\n",
    "\n",
    "        # prepare the data\n",
    "        df = ds.isel(time=0).to_dataframe()\n",
    "        df = df.reset_index().drop(columns=['n_snapshots', 'goes_imager_projection', 'PM25', 'AOD470', 'AE'])\n",
    "        df.dropna(inplace=True)\n",
    "        df['month'] = df.time.dt.month\n",
    "        df.month = df.month.astype('category')\n",
    "        df = pd.get_dummies(df[df.columns])\n",
    "        for a in set(cols).difference(df.columns.tolist()):\n",
    "            df[a] = np.full_like(df['AOD'], fill_value=0)\n",
    "\n",
    "        # extract the columns needed for prediction\n",
    "        data = df[list(cols)].to_numpy()\n",
    "\n",
    "        preds = mc.predict(data)\n",
    "\n",
    "        # set the output on the dataframe\n",
    "        for model, pred in preds.items():\n",
    "            df[model] = pred\n",
    "\n",
    "        # form an xarray dataset that uses the same coordinates as ds\n",
    "        preds = df[['x', 'y', 'time'] + list(preds.keys())].set_index(['time', 'y', 'x']).to_xarray()\n",
    "\n",
    "        # assign\n",
    "        attrs = {'long_name': 'Predicted PM2.5 Value', 'units': 'micrograms per cubic meter'}\n",
    "        for var in preds.data_vars:\n",
    "            ds[var] = preds[var]\n",
    "            ds[var].attrs = attrs\n",
    "\n",
    "        os.makedirs(save_dir, exist_ok=True)\n",
    "        ds.to_netcdf(save_path)"
   ]
  },
  {
   "cell_type": "code",
   "execution_count": null,
   "id": "4f2006c5",
   "metadata": {},
   "outputs": [],
   "source": []
  },
  {
   "cell_type": "markdown",
   "id": "a1c0fedd",
   "metadata": {
    "heading_collapsed": true
   },
   "source": [
    "# Mapping Gridded Dataset Predictions"
   ]
  },
  {
   "cell_type": "code",
   "execution_count": null,
   "id": "db3d8039",
   "metadata": {
    "ExecuteTime": {
     "end_time": "2022-09-27T15:45:34.314268Z",
     "start_time": "2022-09-27T15:45:34.311161Z"
    },
    "hidden": true
   },
   "outputs": [],
   "source": [
    "models = ['Linear Regression','Polynomial','Bayesian Ridge','MLP','Random Forest','Extra Trees','XGBoost']"
   ]
  },
  {
   "cell_type": "code",
   "execution_count": null,
   "id": "edef55c4",
   "metadata": {
    "ExecuteTime": {
     "end_time": "2022-10-06T02:54:42.718772Z",
     "start_time": "2022-10-06T02:53:15.178418Z"
    },
    "hidden": true
   },
   "outputs": [],
   "source": [
    "ds = xr.open_mfdataset(\n",
    "    '/Volumes/Shores/matched/*.nc',\n",
    ")"
   ]
  },
  {
   "cell_type": "code",
   "execution_count": null,
   "id": "a0072fe6",
   "metadata": {
    "ExecuteTime": {
     "end_time": "2022-10-01T22:15:40.231913Z",
     "start_time": "2022-10-01T22:15:37.191626Z"
    },
    "hidden": true
   },
   "outputs": [],
   "source": [
    "with xr.open_dataset('/Volumes/Shores/matched/001.nc') as one:\n",
    "    one.load()\n",
    "    \n",
    "# with xr.open_dataset('/Users/kyle/Downloads/OR_ABI-L2-AODC-M6_G16_s20210411801068_e20210411803441_c20210411806227.nc') as one:\n",
    "#     one.load()\n",
    "\n",
    "proj = one.metpy.parse_cf('AOD').metpy.cartopy_crs\n",
    "plate = ccrs.PlateCarree()\n",
    "equal_area = ccrs.AlbersEqualArea(central_latitude=39.8283, central_longitude=-98.5795)"
   ]
  },
  {
   "cell_type": "code",
   "execution_count": null,
   "id": "d882a8c4",
   "metadata": {
    "ExecuteTime": {
     "end_time": "2022-09-15T22:33:33.501114Z",
     "start_time": "2022-09-15T22:33:33.478460Z"
    },
    "hidden": true
   },
   "outputs": [],
   "source": [
    "ds = ds[models]"
   ]
  },
  {
   "cell_type": "code",
   "execution_count": null,
   "id": "395c0539",
   "metadata": {
    "ExecuteTime": {
     "end_time": "2022-10-06T01:57:23.570796Z",
     "start_time": "2022-10-06T01:57:23.560293Z"
    },
    "code_folding": [
     0,
     5,
     20,
     44
    ],
    "hidden": true
   },
   "outputs": [],
   "source": [
    "def set_extent(ax, extents):\n",
    "    minlon, maxlon = extents['minlon'], extents['maxlon']\n",
    "    minlat, maxlat = extents['minlat'], extents['maxlat']\n",
    "    ax.set_extent([minlon, maxlon, minlat, maxlat], ccrs.PlateCarree())\n",
    "    \n",
    "def add_ring(ax, extents):\n",
    "    minlon, maxlon = extents['minlon'], extents['maxlon']\n",
    "    minlat, maxlat = extents['minlat'], extents['maxlat']\n",
    "    nvert = 100\n",
    "    ring_lons = np.r_[np.linspace(minlon, minlon, nvert),\n",
    "                 np.linspace(minlon, maxlon, nvert),\n",
    "                 np.linspace(maxlon, maxlon, nvert)].tolist()\n",
    "    ring_lats = np.r_[np.linspace(minlat, maxlat, nvert),\n",
    "                 np.linspace(maxlat, maxlat, nvert),\n",
    "                 np.linspace(maxlat, minlat, nvert)].tolist()\n",
    "\n",
    "    ring = LinearRing(list(zip(ring_lons, ring_lats)))\n",
    "    ax.add_geometries([ring], ccrs.PlateCarree(),\n",
    "                       facecolor='none', edgecolor='red', linewidth=0.4)\n",
    "\n",
    "def plot_cities(ax, extents, places=None, dx=0.05, dy=0.05, fontsize=8, show_population=False, markersize=5, alpha=1, color='red'):\n",
    "    minlon, maxlon = extents['minlon'], extents['maxlon']\n",
    "    minlat, maxlat = extents['minlat'], extents['maxlat']\n",
    "    if places is None:\n",
    "        places = gpd.read_file('data/Natural_Earth_quick_start/110m_cultural/ne_110m_populated_places.shp')\n",
    "    sub = places[\n",
    "        (places.geometry.x > minlon) & \n",
    "        (places.geometry.x < maxlon) &\n",
    "        (places.geometry.y > minlat) &\n",
    "        (places.geometry.y < maxlat)\n",
    "    ]\n",
    "    sub.plot(markersize=markersize, ax=ax, transform=plate, color=color, alpha=alpha)\n",
    "    for x, y, label, pop in zip(sub.geometry.x, sub.geometry.y, sub.NAME, sub.POP_MAX):\n",
    "        if show_population:\n",
    "            label = f'{label}, {pop:,} people'\n",
    "        ax.text(x=x+dx, y=y+dy, s=label, transform=plate, fontsize=fontsize)\n",
    "        \n",
    "def plot_roads(ax, extents, roads=None):\n",
    "    minlon, maxlon = extents['minlon'], extents['maxlon']\n",
    "    minlat, maxlat = extents['minlat'], extents['maxlat']\n",
    "    if roads is None:\n",
    "        roads = gpd.read_file('data/Natural_Earth_quick_start/10m_cultural/ne_10m_roads.shp')\n",
    "    roads.plot(ax=ax, transform=plate, color='black', lw=0.1)\n",
    "    \n",
    "def read(file):\n",
    "    df = pd.read_csv(file, parse_dates=['Date Local'])\n",
    "\n",
    "    df.rename(columns = {\n",
    "        'Date Local':'time', \n",
    "        'Arithmetic Mean': 'value',\n",
    "        'Latitude': 'latitude',\n",
    "        'Longitude': 'longitude'\n",
    "    }, inplace = True)\n",
    "\n",
    "    keep = ['latitude', 'longitude', 'time', 'value','Local Site Name', 'Address', 'State Name', 'County Name','City Name', 'POC']\n",
    "    df.drop(columns=df.columns.difference(keep),inplace=True)\n",
    "\n",
    "    df = df.loc[df.value >= 0]\n",
    "    \n",
    "    return df"
   ]
  },
  {
   "cell_type": "code",
   "execution_count": null,
   "id": "0fbdce32",
   "metadata": {
    "ExecuteTime": {
     "end_time": "2022-10-06T01:57:24.184088Z",
     "start_time": "2022-10-06T01:57:24.180379Z"
    },
    "code_folding": [
     0
    ],
    "hidden": true
   },
   "outputs": [],
   "source": [
    "extents = {\n",
    "    'US': {\n",
    "        'minlat': 25,\n",
    "        'maxlat': 49,\n",
    "        'minlon': -120,\n",
    "        'maxlon': -73\n",
    "    },\n",
    "    'USBbox': {\n",
    "        'minlat': 24.396308,\n",
    "        'maxlat': 49.384358,\n",
    "        'minlon': -124.848974,\n",
    "        'maxlon': -66.885444\n",
    "    },\n",
    "    'Houston': {\n",
    "        'minlat': 29.3,\n",
    "        'maxlat': 30.08910587,\n",
    "        'minlon': -95.81349756,\n",
    "        'maxlon': -94.73398897\n",
    "    },\n",
    "    'LA' : {\n",
    "        'minlat': 33.5,\n",
    "        'maxlat': 34.2152144,\n",
    "        'minlon': -117.8,\n",
    "        'maxlon': -116.7522488\n",
    "    },\n",
    "    'Pittsburgh': {\n",
    "        'minlat': 40.14211,\n",
    "        'maxlat': 40.62940,\n",
    "        'minlon': -80.29827,\n",
    "        'maxlon': -79.46404\n",
    "    },\n",
    "    'Nebraska': {\n",
    "        'minlat': 40.000102,\n",
    "        'maxlat': 43.00037,\n",
    "        'minlon': -104.053729,\n",
    "        'maxlon': -95.317255\n",
    "    },\n",
    "    'Fargo': {\n",
    "        'minlat': 46.35421,\n",
    "        'maxlat': 47.34895,\n",
    "        'minlon': -97.33842,\n",
    "        'maxlon': -95.75006\n",
    "    }\n",
    "}"
   ]
  },
  {
   "cell_type": "markdown",
   "id": "702842a1",
   "metadata": {
    "heading_collapsed": true,
    "hidden": true
   },
   "source": [
    "### Yearly Mean"
   ]
  },
  {
   "cell_type": "code",
   "execution_count": null,
   "id": "727bfdef",
   "metadata": {
    "ExecuteTime": {
     "end_time": "2022-10-06T03:34:13.728854Z",
     "start_time": "2022-10-06T02:55:51.445779Z"
    },
    "hidden": true
   },
   "outputs": [],
   "source": [
    "yearly_mean = ds.resample(t='1Y').mean('t').compute()"
   ]
  },
  {
   "cell_type": "code",
   "execution_count": null,
   "id": "2b426a55",
   "metadata": {
    "ExecuteTime": {
     "end_time": "2022-10-06T03:35:25.794330Z",
     "start_time": "2022-10-06T03:35:23.336093Z"
    },
    "hidden": true
   },
   "outputs": [],
   "source": [
    "yearly_mean['Extra Trees'].plot()"
   ]
  },
  {
   "cell_type": "code",
   "execution_count": null,
   "id": "dcfc104d",
   "metadata": {
    "ExecuteTime": {
     "end_time": "2022-09-28T00:59:35.040472Z",
     "start_time": "2022-09-28T00:59:35.036210Z"
    },
    "hidden": true
   },
   "outputs": [],
   "source": [
    "yearly_mean['goes_imager_projection'] = one.goes_imager_projection"
   ]
  },
  {
   "cell_type": "code",
   "execution_count": null,
   "id": "ee3061d8",
   "metadata": {
    "ExecuteTime": {
     "end_time": "2022-09-28T01:01:23.575846Z",
     "start_time": "2022-09-28T01:01:23.572474Z"
    },
    "hidden": true
   },
   "outputs": [],
   "source": [
    "mapping = {'grid_mapping' : 'goes_imager_projection'}\n",
    "yearly_mean['Linear Regression'].attrs = mapping\n",
    "yearly_mean['Polynomial'].attrs = mapping\n",
    "yearly_mean['Bayesian Ridge'].attrs = mapping\n",
    "yearly_mean['MLP'].attrs = mapping\n",
    "yearly_mean['Extra Trees'].attrs = mapping\n",
    "yearly_mean['Random Forest'].attrs = mapping\n",
    "yearly_mean['XGBoost'].attrs = mapping"
   ]
  },
  {
   "cell_type": "code",
   "execution_count": null,
   "id": "a1faa169",
   "metadata": {
    "ExecuteTime": {
     "end_time": "2022-09-28T03:55:31.699303Z",
     "start_time": "2022-09-28T03:55:31.696139Z"
    },
    "hidden": true
   },
   "outputs": [],
   "source": [
    "yearly_mean = yearly_mean.drop_vars(['y_image','x_image','sunglint_angle','retrieval_local_zenith_angle','quantitative_local_zenith_angle','retrieval_solar_zenith_angle','quantitative_solar_zenith_angle','aod_product_wavelength'])"
   ]
  },
  {
   "cell_type": "code",
   "execution_count": null,
   "id": "753cba0c",
   "metadata": {
    "ExecuteTime": {
     "end_time": "2022-09-28T03:55:51.848205Z",
     "start_time": "2022-09-28T03:55:51.777156Z"
    },
    "hidden": true
   },
   "outputs": [],
   "source": [
    "yearly_mean.to_netcdf(f'{save_path}/yearly_mean.nc')"
   ]
  },
  {
   "cell_type": "code",
   "execution_count": null,
   "id": "de08f449",
   "metadata": {
    "ExecuteTime": {
     "end_time": "2022-10-06T01:57:48.049250Z",
     "start_time": "2022-10-06T01:57:47.870642Z"
    },
    "hidden": true
   },
   "outputs": [],
   "source": [
    "proj = yearly_mean.metpy.parse_cf('Extra Trees').metpy.cartopy_crs\n",
    "plate = ccrs.PlateCarree()\n",
    "equal_area = ccrs.AlbersEqualArea(central_latitude=39.8283, central_longitude=-98.5795)"
   ]
  },
  {
   "cell_type": "code",
   "execution_count": null,
   "id": "80bd4c3b",
   "metadata": {
    "ExecuteTime": {
     "end_time": "2022-10-06T01:57:42.678985Z",
     "start_time": "2022-10-06T01:57:42.555344Z"
    },
    "hidden": true
   },
   "outputs": [],
   "source": [
    "with xr.open_dataset(f'{save_path}/yearly_mean.nc') as yearly_mean:\n",
    "    yearly_mean.load()"
   ]
  },
  {
   "cell_type": "code",
   "execution_count": null,
   "id": "afa1f38e",
   "metadata": {
    "ExecuteTime": {
     "end_time": "2022-10-04T02:59:23.325108Z",
     "start_time": "2022-10-04T02:59:22.587748Z"
    },
    "hidden": true
   },
   "outputs": [],
   "source": [
    "df = yearly_mean.to_dataframe().reset_index().dropna().drop(['t', 'y', 'x', 'goes_imager_projection'], axis=1)\n",
    "vmin, vmax = df.quantile(0.01).min(), df.quantile(0.99).max()"
   ]
  },
  {
   "cell_type": "code",
   "execution_count": null,
   "id": "b952b98f",
   "metadata": {
    "ExecuteTime": {
     "end_time": "2022-09-27T16:25:08.140671Z",
     "start_time": "2022-09-27T16:23:36.252091Z"
    },
    "hidden": true
   },
   "outputs": [],
   "source": [
    "fig, axes = plt.subplots(3, 3, dpi=300, subplot_kw=dict(projection=equal_area))\n",
    "\n",
    "axs = iter(axes.ravel())\n",
    "\n",
    "for c in models:\n",
    "    ax = next(axs)\n",
    "    \n",
    "    if c == 'MLP':\n",
    "        ax.set_visible(False)\n",
    "        ax = next(axs)\n",
    "    \n",
    "    a = yearly_mean[c].plot(ax=ax, transform=proj, \n",
    "                       vmin=4, \n",
    "                       vmax=12, \n",
    "                       add_colorbar=False)\n",
    "    ax.coastlines()\n",
    "    set_extent(ax, extents['US'])\n",
    "    ax.set_title(c)\n",
    "    ax.add_feature(cfeature.STATES, alpha=0.4)\n",
    "    ax.spines[:].set_visible(False)\n",
    "    \n",
    "    ax.gridlines(alpha=0.2)\n",
    "    \n",
    "    if c == 'MLP':\n",
    "        ax = next(axs)\n",
    "        ax.set_visible(False)\n",
    "\n",
    "fig.tight_layout()\n",
    "cbar = fig.colorbar(a, ax=axes.ravel().tolist(), extend='both')\n",
    "cbar.set_label('$\\mu g / m^3$')\n",
    "cbar.outline.set_linewidth(0)\n",
    "\n",
    "for ax in axs:\n",
    "    ax.set_visible(False)\n",
    "\n",
    "fig.suptitle('Annual Averaged Predictions', y=1.01)\n",
    "fig.savefig(f'{save_path}/annual-averages.png', format='png', bbox_inches = \"tight\")"
   ]
  },
  {
   "cell_type": "code",
   "execution_count": null,
   "id": "f7232183",
   "metadata": {
    "ExecuteTime": {
     "end_time": "2022-09-28T15:33:13.431696Z",
     "start_time": "2022-09-28T15:32:34.224469Z"
    },
    "hidden": true,
    "scrolled": false
   },
   "outputs": [],
   "source": [
    "fig, axes = plt.subplots(3, 1, \n",
    "    figsize=(6.5,7),\n",
    "#     figsize=set_size(345, subplots=(3,1)), \n",
    "    dpi=137, \n",
    "    subplot_kw=dict(projection=equal_area))\n",
    "\n",
    "axs = iter(axes.ravel())\n",
    "\n",
    "for c in ['Polynomial', 'MLP', 'Extra Trees']:\n",
    "    ax = next(axs)\n",
    "    \n",
    "    a = yearly_mean[c].plot(ax=ax, transform=proj, \n",
    "                       vmin=vmin, \n",
    "                       vmax=12, \n",
    "                       add_colorbar=False)\n",
    "    ax.coastlines()\n",
    "    set_extent(ax, extents['US'])\n",
    "    ax.set_title(c, fontsize=6)\n",
    "    ax.add_feature(cfeature.STATES, alpha=0.4)\n",
    "    ax.spines[:].set_visible(False)\n",
    "    ax.set_aspect(0.5)\n",
    "\n",
    "cbar = fig.colorbar(a, \n",
    "    ax=axes.ravel().tolist(), \n",
    "    extend='both', orientation='horizontal', \n",
    "    aspect=55, pad=0.01)\n",
    "cbar.set_label('$\\mu g / m^3$', fontsize=6)\n",
    "cbar.outline.set_linewidth(0)\n",
    "\n",
    "# fig.tight_layout()\n",
    "\n",
    "# fig.suptitle('Annually Averaged Predictions', y=1.01, x=.6)\n",
    "fig.savefig(f'{save_path}/annual-average-best-models.png', format='png', bbox_inches = \"tight\")"
   ]
  },
  {
   "cell_type": "code",
   "execution_count": null,
   "id": "a20179a4",
   "metadata": {
    "ExecuteTime": {
     "end_time": "2022-10-04T03:08:50.965808Z",
     "start_time": "2022-10-04T03:08:37.409771Z"
    },
    "hidden": true
   },
   "outputs": [],
   "source": [
    "dpi=300\n",
    "fig, ax = plt.subplots(\n",
    "    dpi=dpi, \n",
    "#     figsize=set_size(345, subplots=(1,1)), \n",
    "    subplot_kw=dict(projection=equal_area)\n",
    ")\n",
    "\n",
    "a = yearly_mean['Extra Trees'].plot(ax=ax, transform=proj, vmin=vmin, vmax=12, add_colorbar=False)\n",
    "\n",
    "ax.add_feature(cfeature.STATES, alpha=0.4, lw=0.4)\n",
    "# ax.coastlines()\n",
    "# ax.gridlines(alpha=0.3, lw=0.5)\n",
    "ax.set_title('')\n",
    "\n",
    "set_extent(ax, extents['US'])\n",
    "ax.spines[:].set_visible(False)\n",
    "\n",
    "cbar = fig.colorbar(a, ax=ax, extend='both', aspect=50, shrink=0.7)\n",
    "cbar.ax.tick_params(labelsize=6, width=0)\n",
    "cbar.set_label('$\\mu g / m^3$', fontsize=6)\n",
    "cbar.outline.set_linewidth(0)\n",
    "\n",
    "fig.savefig(f'{save_path}/annual-average-extra_trees.png', format='png', bbox_inches = \"tight\")"
   ]
  },
  {
   "cell_type": "code",
   "execution_count": null,
   "id": "b688792f",
   "metadata": {
    "hidden": true
   },
   "outputs": [],
   "source": []
  },
  {
   "cell_type": "code",
   "execution_count": null,
   "id": "e5918bf2",
   "metadata": {
    "ExecuteTime": {
     "end_time": "2022-09-16T21:55:13.480826Z",
     "start_time": "2022-09-16T21:54:47.174729Z"
    },
    "hidden": true
   },
   "outputs": [],
   "source": [
    "fig, axes = plt.subplots(1, 3, dpi=300, subplot_kw=dict(projection=equal_area))\n",
    "\n",
    "axs = iter(axes.ravel())\n",
    "\n",
    "vmin, vmax = df.quantile(0.01).min(), df.quantile(0.99).max()\n",
    "for c in ['Polynomial', 'MLP', 'Extra Trees']:\n",
    "    ax = next(axs)\n",
    "    \n",
    "    a = yearly_mean[c].plot(ax=ax, transform=proj, \n",
    "                       vmin=vmin, \n",
    "                       vmax=12, \n",
    "                       add_colorbar=False)\n",
    "    ax.coastlines()\n",
    "    ax.set_extent([-120, -63, 25, 50], plate)\n",
    "    ax.set_title(c)\n",
    "    ax.add_feature(cfeature.STATES, alpha=0.4)\n",
    "    ax.spines[:].set_visible(False)\n",
    "    \n",
    "    ax.gridlines(alpha=0.2)\n",
    "#     ax.set_aspect('auto')\n",
    "\n",
    "fig.tight_layout()\n",
    "cbar = fig.colorbar(a, ax=axes.ravel().tolist(), extend='both', orientation='horizontal', aspect=50)\n",
    "cbar.set_label('$\\mu g / m^3$')\n",
    "cbar.outline.set_linewidth(0)\n",
    "\n",
    "# fig.suptitle('Annually Averaged Predictions', y=.9, x=.5)\n",
    "# fig.savefig(f'{save_path}/annual-average-best-models.png', format='png', bbox_inches = \"tight\")"
   ]
  },
  {
   "cell_type": "markdown",
   "id": "a9c18153",
   "metadata": {
    "heading_collapsed": true,
    "hidden": true
   },
   "source": [
    "### Extra Trees City Closeup"
   ]
  },
  {
   "cell_type": "code",
   "execution_count": null,
   "id": "acf3626e",
   "metadata": {
    "ExecuteTime": {
     "end_time": "2022-09-26T19:44:58.382675Z",
     "start_time": "2022-09-26T19:44:52.540453Z"
    },
    "hidden": true
   },
   "outputs": [],
   "source": [
    "places = gpd.read_file('data/Natural_Earth_quick_start/10m_cultural/ne_10m_populated_places.shp')\n",
    "roads = gpd.read_file('data/Natural_Earth_quick_start/10m_cultural/ne_10m_roads.shp')"
   ]
  },
  {
   "cell_type": "code",
   "execution_count": null,
   "id": "86e3d9c9",
   "metadata": {
    "ExecuteTime": {
     "end_time": "2022-09-21T01:11:29.782074Z",
     "start_time": "2022-09-21T01:10:58.627549Z"
    },
    "hidden": true
   },
   "outputs": [],
   "source": [
    "zip_path = f'zip://data/houston_roads.zip!houston_roads/TRANSPORTATION_COMPLETE_STREETS.shp'\n",
    "houston_roads = gpd.read_file(zip_path)"
   ]
  },
  {
   "cell_type": "code",
   "execution_count": null,
   "id": "1639810a",
   "metadata": {
    "ExecuteTime": {
     "end_time": "2022-09-21T13:15:48.978988Z",
     "start_time": "2022-09-21T13:15:48.684111Z"
    },
    "hidden": true
   },
   "outputs": [],
   "source": [
    "# minlon, maxlon, minlat, maxlat = -100, -90, 28, 30\n",
    "\n",
    "brlat, brlon = 29.3,-94.73398897\n",
    "tllat, tllon = 30.08910587,-95.81349756\n",
    "minlon, maxlon, minlat, maxlat = tllon, brlon, brlat, tllat\n",
    "sub = places[\n",
    "    (places.geometry.x > minlon) & \n",
    "    (places.geometry.x < maxlon) &\n",
    "    (places.geometry.y > minlat) &\n",
    "    (places.geometry.y < maxlat)\n",
    "]"
   ]
  },
  {
   "cell_type": "code",
   "execution_count": null,
   "id": "ee8dfed6",
   "metadata": {
    "ExecuteTime": {
     "end_time": "2022-09-21T13:20:20.381741Z",
     "start_time": "2022-09-21T13:17:36.707699Z"
    },
    "hidden": true
   },
   "outputs": [],
   "source": [
    "from mpl_toolkits.axes_grid1.inset_locator import InsetPosition\n",
    "from shapely.geometry.polygon import LinearRing\n",
    "\n",
    "proj = equal_area\n",
    "# the zoomed in plot\n",
    "fig, ax = plt.subplots(dpi=300, subplot_kw=dict(projection=proj))\n",
    "\n",
    "# the inset plot which shows the entire US with a rectangle highlighting the region of interest\n",
    "ax2 = plt.axes([0, 0, 1, 1], projection=proj)\n",
    "ax2.add_feature(cfeature.STATES)\n",
    "\n",
    "inset_x = .23\n",
    "inset_y = .17\n",
    "inset_size = 0.4\n",
    "ip = InsetPosition(ax, [inset_x - inset_size / 2,\n",
    "                        inset_y - inset_size / 2,\n",
    "                        inset_size,\n",
    "                        inset_size])\n",
    "ax2.set_axes_locator(ip)\n",
    "\n",
    "a = yearly_mean['Extra Trees'].plot(\n",
    "        ax=ax, transform=geo, vmin=vmin, vmax=12, \n",
    "        add_colorbar=False)\n",
    "\n",
    "cbar = fig.colorbar(a, ax=ax)\n",
    "cbar.outline.set_linewidth(0)\n",
    "cbar.set_label('$\\mu g / m^3$')\n",
    "\n",
    "yearly_mean['Extra Trees'].plot(\n",
    "        ax=ax2, transform=geo, vmin=vmin, vmax=12, \n",
    "        add_colorbar=False)\n",
    "ax2.gridlines(alpha=0.3)\n",
    "\n",
    "for axis in [ax, ax2]:\n",
    "    axis.add_feature(cfeature.STATES, alpha=0.2)\n",
    "    axis.spines[:].set_visible(False)\n",
    "    axis.set_title('')\n",
    "\n",
    "nvert = 100\n",
    "ring_lons = np.r_[np.linspace(minlon, minlon, nvert),\n",
    "             np.linspace(minlon, maxlon, nvert),\n",
    "             np.linspace(maxlon, maxlon, nvert)].tolist()\n",
    "ring_lats = np.r_[np.linspace(minlat, maxlat, nvert),\n",
    "             np.linspace(maxlat, maxlat, nvert),\n",
    "             np.linspace(maxlat, minlat, nvert)].tolist()\n",
    "\n",
    "ring = LinearRing(list(zip(ring_lons, ring_lats)))\n",
    "ax2.add_geometries([ring], ccrs.PlateCarree(),\n",
    "                   facecolor='none', edgecolor='red', linewidth=0.4)\n",
    "\n",
    "sub.plot(markersize=2, ax=ax, transform=plate, color='red')\n",
    "for x, y, label in zip(sub.geometry.x, sub.geometry.y, sub.NAME):\n",
    "    ax.text(x=x, y=y, s=label, transform=plate, fontsize=10)\n",
    "\n",
    "# roads.plot(ax=ax, transform=plate, color='black', lw=0.1)\n",
    "houston_roads.plot(ax=ax, transform=plate, color='black', lw=0.05)    \n",
    "\n",
    "ax.set_extent([minlon, maxlon, minlat, maxlat], plate)\n",
    "ax2.set_extent([-100, -90, 26, 33], plate)\n",
    "\n",
    "fig.savefig(f'{save_path}/houston-annual-average-extra-trees.png', format='png', bbox_inches = \"tight\")"
   ]
  },
  {
   "cell_type": "code",
   "execution_count": null,
   "id": "7bca20f6",
   "metadata": {
    "ExecuteTime": {
     "end_time": "2022-10-06T01:58:17.258416Z",
     "start_time": "2022-10-06T01:58:11.631620Z"
    },
    "hidden": true
   },
   "outputs": [],
   "source": [
    "places = gpd.read_file('data/Natural_Earth_quick_start/110m_cultural/ne_110m_populated_places.shp')\n",
    "more_places = gpd.read_file('data/Natural_Earth_quick_start/10m_cultural/ne_10m_populated_places.shp')\n",
    "roads = gpd.read_file('data/Natural_Earth_quick_start/10m_cultural/ne_10m_roads.shp')"
   ]
  },
  {
   "cell_type": "code",
   "execution_count": null,
   "id": "27b55fdb",
   "metadata": {
    "ExecuteTime": {
     "end_time": "2022-10-06T01:58:17.269451Z",
     "start_time": "2022-10-06T01:58:17.261221Z"
    },
    "hidden": true
   },
   "outputs": [],
   "source": [
    "pittsburgh = more_places[more_places.NAME == 'Pittsburgh']\n",
    "fargo = more_places[more_places.NAME == 'Fargo']"
   ]
  },
  {
   "cell_type": "code",
   "execution_count": null,
   "id": "28a1ec5d",
   "metadata": {
    "ExecuteTime": {
     "start_time": "2022-10-06T03:35:56.064Z"
    },
    "hidden": true
   },
   "outputs": [],
   "source": [
    "fig, axes = plt.subplots(2,2, dpi=300,\n",
    "    subplot_kw=dict(projection=plate),\n",
    "#     gridspec_kw=dict(wspace=-0.3, hspace=0.1),\n",
    ")\n",
    "\n",
    "(ax1, ax2, ax3, ax4) = axes.ravel()\n",
    "\n",
    "for ax in axes.ravel():\n",
    "    ax.coastlines()\n",
    "    ax.gridlines(alpha=0.2)\n",
    "    ax1.add_feature(cfeature.STATES, alpha=0.4)\n",
    "    dat = yearly_mean['Extra Trees'].plot(\n",
    "        ax=ax, transform=proj, vmin=4, vmax=12, \n",
    "        add_colorbar=False)\n",
    "    ax.set_title('')\n",
    "    ax.spines[:].set_visible(False)\n",
    "\n",
    "# ax1.spines[['left', 'bottom']].set_visible(True)\n",
    "    \n",
    "plot_cities(ax1, extents['LA'], more_places, fontsize=8, dx=0.01, dy=0.01)\n",
    "plot_cities(ax2, extents['Houston'], more_places, fontsize=8, dx=0.01, dy=0.01)\n",
    "plot_cities(ax3, extents['Pittsburgh'], more_places, fontsize=8, dx=0.01, dy=0.01)\n",
    "plot_cities(ax4, extents['Fargo'], fargo, fontsize=8, dx=0.01, dy=0.01)\n",
    "\n",
    "plot_roads(ax1, extents['LA'], roads)\n",
    "plot_roads(ax2, extents['Houston'], roads)\n",
    "plot_roads(ax3, extents['Pittsburgh'], roads)\n",
    "plot_roads(ax4, extents['Fargo'], roads)\n",
    "\n",
    "set_extent(ax1, extents['LA'])\n",
    "set_extent(ax2, extents['Houston'])\n",
    "set_extent(ax3, extents['Pittsburgh'])\n",
    "set_extent(ax4, extents['Fargo'])\n",
    "\n",
    "cbar = fig.colorbar(dat, ax=axes, orientation='horizontal', aspect=50, shrink=0.6, pad=0.02, extend='both')\n",
    "cbar.outline.set_linewidth(0)\n",
    "cbar.set_label('$\\mu g / m^3$')\n",
    "\n",
    "# fig.tight_layout()\n",
    "\n",
    "# fig.savefig(f'{save_path}/cities-annual-average-extra-trees.png', format='png', bbox_inches = \"tight\")"
   ]
  },
  {
   "cell_type": "code",
   "execution_count": null,
   "id": "7c71c69d",
   "metadata": {
    "hidden": true
   },
   "outputs": [],
   "source": []
  },
  {
   "cell_type": "code",
   "execution_count": null,
   "id": "3c7077df",
   "metadata": {
    "hidden": true
   },
   "outputs": [],
   "source": [
    "fig, axes = plt.subplots(2,2, dpi=300,\n",
    "    subplot_kw=dict(projection=equal_area),\n",
    "    gridspec_kw=dict(wspace=-0.3, hspace=0.1),\n",
    ")\n",
    "\n",
    "(ax1, ax2, ax3, ax4) = axes.ravel()\n",
    "\n",
    "for ax in axes.ravel():\n",
    "    ax.coastlines()\n",
    "    ax.gridlines(alpha=0.2)\n",
    "    ax1.add_feature(cfeature.STATES, alpha=0.4)\n",
    "    dat = yearly_mean['Extra Trees'].plot(\n",
    "        ax=ax, transform=proj, vmin=vmin, vmax=12, \n",
    "        add_colorbar=False)\n",
    "    ax.set_title('')\n",
    "    ax.spines[:].set_visible(False)\n",
    "\n",
    "ax1.spines[['left', 'bottom']].set_visible(True)\n",
    "    \n",
    "plot_cities(ax1, extents['LA'], more_places, fontsize=6, dx=0.01, dy=0.01)\n",
    "plot_cities(ax2, extents['Houston'], more_places, fontsize=6, dx=0.01, dy=0.01)\n",
    "plot_cities(ax3, extents['Pittsburgh'], more_places, fontsize=6, dx=0.01, dy=0.01)\n",
    "plot_cities(ax4, extents['Fargo'], fargo, fontsize=6, dx=0.01, dy=0.01)\n",
    "\n",
    "plot_roads(ax1, extents['LA'], roads)\n",
    "plot_roads(ax2, extents['Houston'], roads)\n",
    "plot_roads(ax3, extents['Pittsburgh'], roads)\n",
    "plot_roads(ax4, extents['Fargo'], roads)\n",
    "\n",
    "set_extent(ax1, extents['LA'])\n",
    "set_extent(ax2, extents['Houston'])\n",
    "set_extent(ax3, extents['Pittsburgh'])\n",
    "set_extent(ax4, extents['Fargo'])\n",
    "\n",
    "cbar = fig.colorbar(dat, ax=axes, orientation='horizontal', aspect=50, shrink=0.6, pad=0.02)\n",
    "cbar.outline.set_linewidth(0)\n",
    "cbar.set_label('$\\mu g / m^3$')\n",
    "\n",
    "fig.savefig(f'{save_path}/cities-annual-average-extra-trees.png', format='png', bbox_inches = \"tight\")"
   ]
  },
  {
   "cell_type": "code",
   "execution_count": null,
   "id": "2cdfce08",
   "metadata": {
    "hidden": true
   },
   "outputs": [],
   "source": []
  },
  {
   "cell_type": "code",
   "execution_count": null,
   "id": "d6246473",
   "metadata": {
    "hidden": true
   },
   "outputs": [],
   "source": [
    "from matplotlib.gridspec import GridSpec\n",
    "\n",
    "fig = plt.figure(dpi=300, constrained_layout=True)\n",
    "\n",
    "gs = GridSpec(2, 3, figure=fig)\n",
    "ax1 = fig.add_subplot(gs[0, :], projection=geo)\n",
    "ax2 = fig.add_subplot(gs[-1, 0],  projection=equal_area)\n",
    "ax3 = fig.add_subplot(gs[-1, 1],  projection=equal_area)\n",
    "ax4 = fig.add_subplot(gs[-1, 2],  projection=equal_area)\n",
    "\n",
    "axes = [ax1, ax2, ax3, ax4]\n",
    "\n",
    "\n",
    "for ax in axes:\n",
    "    ax.coastlines()\n",
    "    ax.gridlines(alpha=0.2)\n",
    "    ax1.add_feature(cfeature.STATES, alpha=0.4)\n",
    "    dat = yearly_mean['Extra Trees'].plot(\n",
    "        ax=ax, transform=geo, vmin=vmin, vmax=12, \n",
    "        add_colorbar=False)\n",
    "    ax.set_title('')\n",
    "    ax.spines[:].set_visible(False)\n",
    "ax2.spines[['left', 'bottom']].set_visible(True)\n",
    "    \n",
    "plot_cities(ax1, extents['US'], places)\n",
    "plot_cities(ax1, extents['US'], pittsburgh, dx=0.01, dy=0.01)\n",
    "plot_cities(ax2, extents['LA'], more_places, fontsize=6, dx=0.01, dy=0.01)\n",
    "plot_cities(ax3, extents['Houston'], more_places, fontsize=6, dx=0.01, dy=0.01)\n",
    "plot_cities(ax4, extents['Pittsburgh'], more_places, fontsize=6, dx=0.01, dy=0.01)\n",
    "\n",
    "plot_roads(ax2, extents['LA'], roads)\n",
    "plot_roads(ax3, extents['Houston'], roads)\n",
    "plot_roads(ax4, extents['Pittsburgh'], roads)\n",
    "\n",
    "add_ring(ax1, extents['Houston'])\n",
    "add_ring(ax1, extents['LA'])\n",
    "add_ring(ax1, extents['Pittsburgh'])\n",
    "\n",
    "set_extent(ax1, extents['US'])\n",
    "set_extent(ax2, extents['LA'])\n",
    "set_extent(ax3, extents['Houston'])\n",
    "set_extent(ax4, extents['Pittsburgh'])\n",
    "\n",
    "cbar = fig.colorbar(dat, ax=axes)\n",
    "cbar.outline.set_linewidth(0)\n",
    "cbar.set_label('$\\mu g / m^3$')\n",
    "\n",
    "fig.savefig(f'{save_path}/cities-annual-average-extra-trees.png', format='png', bbox_inches = \"tight\")"
   ]
  },
  {
   "cell_type": "markdown",
   "id": "82c6adb4",
   "metadata": {
    "heading_collapsed": true,
    "hidden": true
   },
   "source": [
    "### Seasonal and Monthly Means"
   ]
  },
  {
   "cell_type": "code",
   "execution_count": null,
   "id": "6c422fd2",
   "metadata": {
    "ExecuteTime": {
     "end_time": "2022-09-15T22:55:22.624420Z",
     "start_time": "2022-09-15T22:47:38.440137Z"
    },
    "hidden": true
   },
   "outputs": [],
   "source": [
    "monthly = ds.resample(t='1m').mean().compute()"
   ]
  },
  {
   "cell_type": "code",
   "execution_count": null,
   "id": "0505777f",
   "metadata": {
    "ExecuteTime": {
     "end_time": "2022-09-15T22:55:23.112215Z",
     "start_time": "2022-09-15T22:55:22.626603Z"
    },
    "hidden": true
   },
   "outputs": [],
   "source": [
    "monthly.to_netcdf(f'{save_path}/monthly_means.nc')"
   ]
  },
  {
   "cell_type": "markdown",
   "id": "cba11f3a",
   "metadata": {
    "hidden": true
   },
   "source": [
    "[Calculating seasonal averages](https://docs.xarray.dev/en/stable/examples/monthly-means.html#Now-for-the-heavy-lifting:)"
   ]
  },
  {
   "cell_type": "code",
   "execution_count": null,
   "id": "b808c335",
   "metadata": {
    "ExecuteTime": {
     "end_time": "2022-09-15T22:55:23.128672Z",
     "start_time": "2022-09-15T22:55:23.116723Z"
    },
    "hidden": true
   },
   "outputs": [],
   "source": [
    "month_length = monthly.t.dt.days_in_month\n",
    "month_length"
   ]
  },
  {
   "cell_type": "code",
   "execution_count": null,
   "id": "ca925782",
   "metadata": {
    "ExecuteTime": {
     "end_time": "2022-09-15T22:55:29.763400Z",
     "start_time": "2022-09-15T22:55:23.130111Z"
    },
    "hidden": true
   },
   "outputs": [],
   "source": [
    "weights = (\n",
    "    month_length.groupby(\"t.season\") / month_length.groupby(\"t.season\").sum()\n",
    ")\n",
    "\n",
    "# Calculate the weighted average\n",
    "seasonal_averages = (monthly * weights).groupby(\"t.season\").sum(dim=\"t\", skipna=True)"
   ]
  },
  {
   "cell_type": "code",
   "execution_count": null,
   "id": "c82881e4",
   "metadata": {
    "ExecuteTime": {
     "end_time": "2022-09-16T00:20:45.231107Z",
     "start_time": "2022-09-16T00:20:44.439105Z"
    },
    "hidden": true
   },
   "outputs": [],
   "source": [
    "seasonal_averages.to_netcdf(f'{save_path}/seasonal_means.nc')"
   ]
  },
  {
   "cell_type": "code",
   "execution_count": null,
   "id": "02ebfdb0",
   "metadata": {
    "ExecuteTime": {
     "end_time": "2022-09-16T17:19:37.338857Z",
     "start_time": "2022-09-16T17:19:36.786639Z"
    },
    "hidden": true
   },
   "outputs": [],
   "source": [
    "with xr.open_dataset(f'{save_path}/seasonal_means.nc') as seasonal_averages:\n",
    "    seasonal_averages.load()"
   ]
  },
  {
   "cell_type": "code",
   "execution_count": null,
   "id": "b9171b29",
   "metadata": {
    "ExecuteTime": {
     "end_time": "2022-09-16T17:19:38.557007Z",
     "start_time": "2022-09-16T17:19:38.052542Z"
    },
    "hidden": true
   },
   "outputs": [],
   "source": [
    "nans = xr.where(seasonal_averages == 0, np.nan, seasonal_averages)"
   ]
  },
  {
   "cell_type": "code",
   "execution_count": null,
   "id": "6f04da6e",
   "metadata": {
    "ExecuteTime": {
     "end_time": "2022-09-16T17:19:47.102299Z",
     "start_time": "2022-09-16T17:19:42.952924Z"
    },
    "hidden": true
   },
   "outputs": [],
   "source": [
    "seasonal_df = nans[['Polynomial', 'MLP', 'Extra Trees']].to_dataframe().reset_index().dropna().drop(['season', 'y', 'x'], axis=1)"
   ]
  },
  {
   "cell_type": "code",
   "execution_count": null,
   "id": "1e90caa8",
   "metadata": {
    "ExecuteTime": {
     "end_time": "2022-09-16T17:23:38.307410Z",
     "start_time": "2022-09-16T17:20:44.010850Z"
    },
    "hidden": true,
    "scrolled": false
   },
   "outputs": [],
   "source": [
    "fig, axes = plt.subplots(4, 3, dpi=300, subplot_kw=dict(projection=equal_area))\n",
    "axs = iter(axes.ravel())\n",
    "\n",
    "# vmin, vmax = seasonal_df.quantile(0.01).min(), seasonal_df.quantile(0.99).max()\n",
    "# print(vmin, vmax)\n",
    "first_row = True\n",
    "for season in ['DJF', 'MAM', 'JJA', 'SON']:\n",
    "    first = True\n",
    "    \n",
    "    for c in ['Polynomial', 'MLP', 'Extra Trees']:\n",
    "        ax = next(axs)\n",
    "\n",
    "        a = nans.sel(season=season)[c].plot(ax=ax, transform=geo, \n",
    "                                            vmin=vmin, \n",
    "                                            vmax=12, \n",
    "                                            add_colorbar=False)\n",
    "        ax.coastlines()\n",
    "        ax.set_extent([-120, -63, 25, 46.7], plate)\n",
    "        ax.spines[:].set_visible(False)\n",
    "        ax.gridlines(alpha=0.2)\n",
    "        ax.add_feature(cfeature.STATES)\n",
    "        \n",
    "        if first_row:\n",
    "            ax.set_title(c)\n",
    "        else:\n",
    "            ax.set_title('')\n",
    "            \n",
    "        if first:\n",
    "            # https://stackoverflow.com/questions/35479508/cartopy-set-xlabel-set-ylabel-not-ticklabels\n",
    "            ax.text(-0.07, 0.55, season, va='bottom', ha='center',\n",
    "            rotation='vertical', rotation_mode='anchor',\n",
    "            transform=ax.transAxes)\n",
    "            first = False\n",
    "        \n",
    "    first_row = False\n",
    "\n",
    "fig.tight_layout()\n",
    "cbar = fig.colorbar(a, ax=axes.ravel().tolist(), extend='both')\n",
    "cbar.set_label('$\\mu g / m^3$')\n",
    "cbar.outline.set_linewidth(0)\n",
    "\n",
    "\n",
    "fig.suptitle(f'Seasonal Averages Prediction', y=1.01)\n",
    "fig.savefig(f'{save_path}/seasonal-averages.png', format='png', bbox_inches = \"tight\")"
   ]
  },
  {
   "cell_type": "code",
   "execution_count": null,
   "id": "d3d1cb17",
   "metadata": {
    "ExecuteTime": {
     "end_time": "2022-09-16T17:27:02.493423Z",
     "start_time": "2022-09-16T17:26:59.341210Z"
    },
    "hidden": true
   },
   "outputs": [],
   "source": [
    "et = nans[['Extra Trees']].to_dataframe().reset_index().dropna().drop(['season', 'y', 'x'], axis=1)"
   ]
  },
  {
   "cell_type": "code",
   "execution_count": null,
   "id": "a8775f77",
   "metadata": {
    "ExecuteTime": {
     "end_time": "2022-09-16T17:33:40.181470Z",
     "start_time": "2022-09-16T17:33:36.049770Z"
    },
    "hidden": true
   },
   "outputs": [],
   "source": [
    "logged = nans.apply(np.log)\n",
    "etlogged = logged[['Extra Trees']].to_dataframe().reset_index().dropna().drop(['season', 'y', 'x'], axis=1)"
   ]
  },
  {
   "cell_type": "code",
   "execution_count": null,
   "id": "8f613380",
   "metadata": {
    "ExecuteTime": {
     "end_time": "2022-09-16T22:01:59.264735Z",
     "start_time": "2022-09-16T22:01:10.402726Z"
    },
    "hidden": true
   },
   "outputs": [],
   "source": [
    "fig, axes = plt.subplots(2, 2, dpi=300, subplot_kw=dict(projection=equal_area))\n",
    "axs = iter(axes.ravel())\n",
    "\n",
    "# vmin, vmax = etlogged.quantile(0.01).min(), etlogged.quantile(0.99).max()\n",
    "\n",
    "for season in ['DJF', 'MAM', 'JJA', 'SON']:\n",
    "    \n",
    "    ax = next(axs)\n",
    "\n",
    "    a = nans.sel(season=season)['Extra Trees'].plot(ax=ax, transform=geo, \n",
    "                                        vmin=vmin, \n",
    "                                        vmax=12, \n",
    "                                        add_colorbar=False)\n",
    "    ax.coastlines()\n",
    "    ax.set_extent([-120, -63, 25, 46.7], plate)\n",
    "    ax.spines[:].set_visible(False)\n",
    "    ax.gridlines(alpha=0.2)\n",
    "    ax.add_feature(cfeature.STATES)\n",
    "\n",
    "    ax.set_title(season)\n",
    "\n",
    "fig.tight_layout()\n",
    "cbar = fig.colorbar(a, ax=axes.ravel().tolist(), extend='both', aspect=50)\n",
    "cbar.set_label('$\\mu g / m^3$')\n",
    "cbar.outline.set_linewidth(0)\n",
    "\n",
    "\n",
    "fig.suptitle(f'Seasonal Averages Prediction for Extra Trees', y=1.01)\n",
    "fig.savefig(f'{save_path}/seasonal-averages-extra-trees.png', format='png', bbox_inches = \"tight\")"
   ]
  },
  {
   "cell_type": "markdown",
   "id": "3ef2ab7c",
   "metadata": {
    "heading_collapsed": true,
    "hidden": true
   },
   "source": [
    "### Daily Smoke Events"
   ]
  },
  {
   "cell_type": "code",
   "execution_count": null,
   "id": "ae46d46b",
   "metadata": {
    "ExecuteTime": {
     "end_time": "2022-09-28T04:19:59.767340Z",
     "start_time": "2022-09-28T04:19:59.764700Z"
    },
    "hidden": true
   },
   "outputs": [],
   "source": [
    "extra = ds['Extra Trees']"
   ]
  },
  {
   "cell_type": "code",
   "execution_count": null,
   "id": "ee6326f8",
   "metadata": {
    "ExecuteTime": {
     "end_time": "2022-09-28T04:20:51.688784Z",
     "start_time": "2022-09-28T04:20:51.678235Z"
    },
    "hidden": true
   },
   "outputs": [],
   "source": [
    "event = extra.sel(t=slice('07-26-2021', '08-5-21'))"
   ]
  },
  {
   "cell_type": "code",
   "execution_count": null,
   "id": "a3561adc",
   "metadata": {
    "ExecuteTime": {
     "end_time": "2022-09-28T04:21:01.210711Z",
     "start_time": "2022-09-28T04:20:54.645551Z"
    },
    "hidden": true
   },
   "outputs": [],
   "source": [
    "df = event.to_dataframe().reset_index().dropna().drop(['t', 'y', 'x'], axis=1)\n",
    "vmin, vmax = df.quantile(0.01).min(), df.quantile(0.99).max()\n",
    "mmin, mmax = df.min().item(), df.max().item()"
   ]
  },
  {
   "cell_type": "code",
   "execution_count": null,
   "id": "79729358",
   "metadata": {
    "ExecuteTime": {
     "end_time": "2022-09-28T04:23:01.029990Z",
     "start_time": "2022-09-28T04:21:01.213218Z"
    },
    "hidden": true
   },
   "outputs": [],
   "source": [
    "fig, axes = plt.subplots(5, 2, \n",
    "    subplot_kw=dict(projection=equal_area),\n",
    "    gridspec_kw=dict(wspace=-.5, hspace=0.5),\n",
    "    dpi=300)\n",
    "\n",
    "for t, ax in zip(event.t, axes[:, 0].tolist() + axes[:, 1].tolist()):\n",
    "    dat = event.sel(t=t).plot(\n",
    "        ax=ax, add_colorbar=False,\n",
    "        vmin=0, vmax=vmax, transform=proj,\n",
    "        cmap='jet')\n",
    "    title = pd.to_datetime(t.item()).strftime('%b. %d, %Y')\n",
    "    ax.set_title(title)\n",
    "\n",
    "cbar = fig.colorbar(dat, ax=axes, aspect=50, extend='max')\n",
    "cbar.outline.set_linewidth(0)\n",
    "cbar.set_label('$\\mu g / m^3$')\n",
    "    \n",
    "for ax in axes.ravel():\n",
    "    set_extent(ax, extents['US'])\n",
    "    ax.spines[:].set_visible(False)\n",
    "    ax.coastlines()\n",
    "    ax.add_feature(cfeature.STATES)\n",
    "    \n",
    "fig.savefig(f'{save_path}/smoke-event.png', format='png', bbox_inches = \"tight\")"
   ]
  },
  {
   "cell_type": "code",
   "execution_count": null,
   "id": "4c8bf1da",
   "metadata": {
    "ExecuteTime": {
     "end_time": "2022-09-28T04:23:12.321565Z",
     "start_time": "2022-09-28T04:23:11.391032Z"
    },
    "hidden": true
   },
   "outputs": [],
   "source": [
    "event = event.resample(t='2d').mean().compute()"
   ]
  },
  {
   "cell_type": "code",
   "execution_count": null,
   "id": "1356386f",
   "metadata": {
    "ExecuteTime": {
     "end_time": "2022-09-28T04:30:29.858248Z",
     "start_time": "2022-09-28T04:30:27.820635Z"
    },
    "hidden": true
   },
   "outputs": [],
   "source": [
    "df = event.to_dataframe().reset_index().dropna().drop(['t', 'y', 'x'], axis=1)\n",
    "vmin, vmax = df.quantile(0.01).min(), df.quantile(0.99).max()\n",
    "mmin, mmax = df.min().item(), df.max().item()"
   ]
  },
  {
   "cell_type": "code",
   "execution_count": null,
   "id": "595c3e93",
   "metadata": {
    "ExecuteTime": {
     "end_time": "2022-09-28T04:35:12.459628Z",
     "start_time": "2022-09-28T04:34:00.548172Z"
    },
    "hidden": true
   },
   "outputs": [],
   "source": [
    "fig, axes = plt.subplots(2, 3, \n",
    "    figsize=(6.5, 5),\n",
    "    subplot_kw=dict(projection=equal_area),\n",
    "#     gridspec_kw=dict(wspace=-.5, hspace=0.5),\n",
    "    dpi=137)\n",
    "\n",
    "for t, ax in zip(event.t, axes.ravel()):\n",
    "    dat = event.sel(t=t).plot(\n",
    "        ax=ax, add_colorbar=False,\n",
    "        vmin=0, vmax=vmax, transform=proj,\n",
    "        cmap='jet')\n",
    "    now = pd.to_datetime(t.item()) \n",
    "    tom = now + pd.DateOffset(1)\n",
    "    title = now.strftime('%b. %d') + tom.strftime('-%d, %Y')\n",
    "    ax.set_title(title)\n",
    "\n",
    "cbar = fig.colorbar(dat, ax=axes, aspect=50, extend='max', orientation='horizontal')\n",
    "cbar.outline.set_linewidth(0)\n",
    "cbar.set_label('$\\mu g / m^3$')\n",
    "    \n",
    "for ax in axes.ravel():\n",
    "    set_extent(ax, extents['US'])\n",
    "    ax.spines[:].set_visible(False)\n",
    "    ax.coastlines()\n",
    "    ax.add_feature(cfeature.STATES)\n",
    "    \n",
    "fig.savefig(f'{save_path}/smoke-event-2day-average.png', format='png', bbox_inches = \"tight\")"
   ]
  },
  {
   "cell_type": "code",
   "execution_count": null,
   "id": "484c60da",
   "metadata": {
    "ExecuteTime": {
     "end_time": "2022-09-28T04:25:32.543333Z",
     "start_time": "2022-09-28T04:25:32.538013Z"
    },
    "hidden": true
   },
   "outputs": [],
   "source": [
    "def find_dpi(w, h, d):\n",
    "    \"\"\"\n",
    "    w : width in pixels\n",
    "    h : height in pixels\n",
    "    d : diagonal in inches\n",
    "    \"\"\"\n",
    "    w_inches = (d ** 2 / (1 + h ** 2 / w ** 2)) ** 0.5\n",
    "    return round(w / w_inches)\n",
    "\n",
    "find_dpi(1792, 1120, 15.4)"
   ]
  },
  {
   "cell_type": "markdown",
   "id": "f5096a2a",
   "metadata": {
    "heading_collapsed": true,
    "hidden": true
   },
   "source": [
    "### Rural vs Urban without/with monitors"
   ]
  },
  {
   "cell_type": "code",
   "execution_count": null,
   "id": "8d18c0eb",
   "metadata": {
    "ExecuteTime": {
     "end_time": "2022-09-27T01:18:54.862279Z",
     "start_time": "2022-09-27T01:18:48.338776Z"
    },
    "hidden": true
   },
   "outputs": [],
   "source": [
    "more_places = gpd.read_file('data/Natural_Earth_quick_start/10m_cultural/ne_10m_populated_places.shp')\n",
    "roads = gpd.read_file('data/Natural_Earth_quick_start/10m_cultural/ne_10m_roads.shp')\n",
    "states = gpd.read_file('data/Natural_Earth_quick_start/10m_cultural/ne_10m_admin_1_states_provinces.shp')"
   ]
  },
  {
   "cell_type": "code",
   "execution_count": null,
   "id": "112cbc60",
   "metadata": {
    "ExecuteTime": {
     "end_time": "2022-09-27T01:18:58.444591Z",
     "start_time": "2022-09-27T01:18:54.864481Z"
    },
    "hidden": true
   },
   "outputs": [],
   "source": [
    "df = read(f'/Volumes/Shores/EPA/daily_88101_{2021}.csv')"
   ]
  },
  {
   "cell_type": "code",
   "execution_count": null,
   "id": "09190409",
   "metadata": {
    "ExecuteTime": {
     "end_time": "2022-09-27T01:18:58.484190Z",
     "start_time": "2022-09-27T01:18:58.446490Z"
    },
    "hidden": true
   },
   "outputs": [],
   "source": [
    "nebraska = states[states.name == 'Nebraska']\n",
    "nebraska_places = more_places[more_places['ADM1NAME'] == 'Nebraska']\n",
    "nebraska_pm = df[df['State Name'] == 'Nebraska']"
   ]
  },
  {
   "cell_type": "code",
   "execution_count": null,
   "id": "08beae93",
   "metadata": {
    "ExecuteTime": {
     "end_time": "2022-09-27T01:18:58.491424Z",
     "start_time": "2022-09-27T01:18:58.486044Z"
    },
    "hidden": true
   },
   "outputs": [],
   "source": [
    "locs = nebraska_pm[['latitude', 'longitude']].drop_duplicates()"
   ]
  },
  {
   "cell_type": "code",
   "execution_count": null,
   "id": "420c3529",
   "metadata": {
    "ExecuteTime": {
     "end_time": "2022-09-22T17:46:05.537975Z",
     "start_time": "2022-09-22T17:46:05.020369Z"
    },
    "hidden": true
   },
   "outputs": [],
   "source": [
    "fig, ax = plt.subplots(\n",
    "    subplot_kw=dict(projection=equal_area),\n",
    "    dpi=300)\n",
    "\n",
    "def colorize_state(geometry):\n",
    "    facecolor = (0.9375, 0.9375, 0.859375)\n",
    "    return {'facecolor': facecolor, 'edgecolor': '#00000033'}\n",
    "\n",
    "ax.add_geometries(\n",
    "    nebraska.geometry,\n",
    "    ccrs.PlateCarree(),\n",
    "    styler=colorize_state, zorder=-1)\n",
    "\n",
    "ax.set_extent(\n",
    "    [\n",
    "        nebraska.bounds.minx, nebraska.bounds.maxx,\n",
    "        nebraska.bounds.miny, nebraska.bounds.maxy\n",
    "    ], ccrs.PlateCarree()\n",
    ")\n",
    "\n",
    "markersize=10\n",
    "alpha=0.5\n",
    "\n",
    "plot_cities(ax, extents['Nebraska'], nebraska_places, show_population=True,\n",
    "            markersize=markersize, alpha=alpha)\n",
    "ax.scatter(locs.longitude, locs.latitude, transform=plate, color='blue',\n",
    "           label='EPA Station',\n",
    "            s=markersize, alpha=alpha)\n",
    "\n",
    "ax.spines[:].set_visible(False)\n",
    "gl = ax.gridlines(draw_labels=True, alpha=0.3)\n",
    "gl.top_labels=False\n",
    "gl.right_labels=False\n",
    "xstyle = {'size': 8, 'rotation': 0, 'ha': 'center'}\n",
    "ystyle = {'size': 8, 'rotation': 0}\n",
    "gl.xlabel_style = xstyle\n",
    "gl.ylabel_style = ystyle\n",
    "\n",
    "ax.legend(frameon=True)"
   ]
  },
  {
   "cell_type": "code",
   "execution_count": null,
   "id": "1227f49c",
   "metadata": {
    "ExecuteTime": {
     "end_time": "2022-09-27T01:18:58.498657Z",
     "start_time": "2022-09-27T01:18:58.495075Z"
    },
    "hidden": true
   },
   "outputs": [],
   "source": [
    "def get_site(name, extra):\n",
    "    site = nebraska_places[nebraska_places.NAME == name].geometry\n",
    "    x, y = proj.transform_point(x=site.x.item(), y=site.y.item(), src_crs=plate)\n",
    "    site = extra.sel(x=x, y=y, method='nearest')\n",
    "    site = site.compute()\n",
    "    site = site.to_dataframe()['Extra Trees']\n",
    "    \n",
    "    return site"
   ]
  },
  {
   "cell_type": "code",
   "execution_count": null,
   "id": "4af300f4",
   "metadata": {
    "ExecuteTime": {
     "end_time": "2022-09-27T01:29:59.092559Z",
     "start_time": "2022-09-27T01:25:19.146656Z"
    },
    "hidden": true
   },
   "outputs": [],
   "source": [
    "sidney = get_site('Sidney', extra)"
   ]
  },
  {
   "cell_type": "code",
   "execution_count": null,
   "id": "0050191e",
   "metadata": {
    "ExecuteTime": {
     "end_time": "2022-09-27T01:34:25.782639Z",
     "start_time": "2022-09-27T01:29:59.095378Z"
    },
    "hidden": true
   },
   "outputs": [],
   "source": [
    "north_platte = get_site('North Platte', extra)"
   ]
  },
  {
   "cell_type": "code",
   "execution_count": null,
   "id": "eacce332",
   "metadata": {
    "ExecuteTime": {
     "end_time": "2022-09-27T01:38:42.151051Z",
     "start_time": "2022-09-27T01:34:25.784625Z"
    },
    "hidden": true
   },
   "outputs": [],
   "source": [
    "omaha_extra_trees = get_site('Omaha', extra)"
   ]
  },
  {
   "cell_type": "code",
   "execution_count": null,
   "id": "f9eb2568",
   "metadata": {
    "ExecuteTime": {
     "end_time": "2022-09-27T01:42:11.359491Z",
     "start_time": "2022-09-27T01:42:11.347024Z"
    },
    "hidden": true
   },
   "outputs": [],
   "source": [
    "omaha_site = nebraska_pm[(nebraska_pm.latitude == 41.133294) & (nebraska_pm.longitude == -95.956103)]\n",
    "omaha_site = omaha_site.set_index('time')['value'].resample('1d').mean()"
   ]
  },
  {
   "cell_type": "code",
   "execution_count": null,
   "id": "09626e16",
   "metadata": {
    "ExecuteTime": {
     "end_time": "2022-09-27T01:42:27.349287Z",
     "start_time": "2022-09-27T01:42:26.480724Z"
    },
    "hidden": true
   },
   "outputs": [],
   "source": [
    "fig, axes = plt.subplots(2,1, dpi=300)\n",
    "\n",
    "(ax1, ax2) = axes\n",
    "\n",
    "lw=1\n",
    "omaha_site.plot(ax=ax1, lw=lw, label='Omaha\\nEPA', color='green')\n",
    "omaha_extra_trees.plot(ax=ax1, lw=lw, label='Omaha\\nExtra Trees', color='magenta')\n",
    "\n",
    "north_platte.plot(ax=ax2, lw=lw, label='North Platte\\nExtra Trees', color='#008484')\n",
    "sidney.plot(ax=ax2, lw=lw, label='Sidney\\nExtra Trees', color='#ff7b7b')\n",
    "\n",
    "offsets = [[0, -1], [0]]\n",
    "\n",
    "for ax, _offsets in zip(axes, offsets):\n",
    "    ax.spines[:].set_visible(False)\n",
    "    ax.set_xlabel('')\n",
    "    ax.grid(axis='x', visible=False)\n",
    "    ax.set_ylim((0, omaha_site.max()))\n",
    "    ax.set_ylabel('$\\mu g / m^3 $')\n",
    "    ax.legend()\n",
    "    \n",
    "#     for line, offset in zip(ax.lines, _offsets):\n",
    "#         name=line.get_label()\n",
    "#         last = next(reversed(line.get_ydata()[~line.get_ydata().mask]),float(\"inf\"))\n",
    "#         ax.annotate(name, xy=(1,last+offset), xytext=(6,0), color=line.get_color(), \n",
    "#                     xycoords = ax.get_yaxis_transform(), textcoords=\"offset points\",\n",
    "#                     size=14, va=\"center\")\n",
    "    \n",
    "fig.tight_layout()"
   ]
  },
  {
   "cell_type": "markdown",
   "id": "ec14f956",
   "metadata": {
    "heading_collapsed": true
   },
   "source": [
    "# Counting Nans/NonNans in PM and AOD"
   ]
  },
  {
   "cell_type": "code",
   "execution_count": null,
   "id": "8af17933",
   "metadata": {
    "ExecuteTime": {
     "end_time": "2022-09-27T14:27:52.736587Z",
     "start_time": "2022-09-27T14:27:33.224501Z"
    },
    "hidden": true
   },
   "outputs": [],
   "source": [
    "df = pd.concat([read(f'/Volumes/Shores/EPA/daily_88101_{year}.csv') for year in range(2017,2022)], axis=0)"
   ]
  },
  {
   "cell_type": "code",
   "execution_count": null,
   "id": "d2fa3e1e",
   "metadata": {
    "ExecuteTime": {
     "end_time": "2022-09-27T14:28:02.503315Z",
     "start_time": "2022-09-27T14:28:02.498290Z"
    },
    "hidden": true
   },
   "outputs": [],
   "source": [
    "df.set_index('time', inplace=True)"
   ]
  },
  {
   "cell_type": "code",
   "execution_count": null,
   "id": "a9ccab9d",
   "metadata": {
    "ExecuteTime": {
     "end_time": "2022-09-27T14:30:23.151937Z",
     "start_time": "2022-09-27T14:30:23.138471Z"
    },
    "hidden": true
   },
   "outputs": [],
   "source": [
    "df"
   ]
  },
  {
   "cell_type": "code",
   "execution_count": null,
   "id": "abc14e91",
   "metadata": {
    "ExecuteTime": {
     "end_time": "2022-09-27T14:28:03.396528Z",
     "start_time": "2022-09-27T14:28:03.185699Z"
    },
    "hidden": true
   },
   "outputs": [],
   "source": [
    "available = df['05-25-2017':]"
   ]
  },
  {
   "cell_type": "code",
   "execution_count": null,
   "id": "60618a5d",
   "metadata": {
    "ExecuteTime": {
     "end_time": "2022-09-27T14:28:12.529957Z",
     "start_time": "2022-09-27T14:28:07.975716Z"
    },
    "hidden": true
   },
   "outputs": [],
   "source": [
    "nans = 0\n",
    "non_nan = 0\n",
    "for loc, group in available.groupby(['latitude', 'longitude']):\n",
    "    group = group.resample('1d').mean()\n",
    "    nans += group.isna().sum().value\n",
    "    non_nan += (~group.isna()).sum().value"
   ]
  },
  {
   "cell_type": "code",
   "execution_count": null,
   "id": "ea778b37",
   "metadata": {
    "ExecuteTime": {
     "end_time": "2022-09-27T14:28:12.537978Z",
     "start_time": "2022-09-27T14:28:12.532757Z"
    },
    "hidden": true
   },
   "outputs": [],
   "source": [
    "nans, non_nan"
   ]
  },
  {
   "cell_type": "code",
   "execution_count": null,
   "id": "ee51b51e",
   "metadata": {
    "ExecuteTime": {
     "end_time": "2022-09-27T14:31:21.144336Z",
     "start_time": "2022-09-27T14:31:21.104439Z"
    },
    "hidden": true
   },
   "outputs": [],
   "source": [
    "dropped_locations = pd.read_csv('data/matched/locations_with_nans.csv', parse_dates=['time'])"
   ]
  },
  {
   "cell_type": "code",
   "execution_count": null,
   "id": "224d3b60",
   "metadata": {
    "ExecuteTime": {
     "end_time": "2022-09-27T14:31:22.985316Z",
     "start_time": "2022-09-27T14:31:22.981993Z"
    },
    "hidden": true
   },
   "outputs": [],
   "source": [
    "dropped_locations.set_index('time', inplace=True)"
   ]
  },
  {
   "cell_type": "code",
   "execution_count": null,
   "id": "187d9a3b",
   "metadata": {
    "ExecuteTime": {
     "end_time": "2022-09-27T14:32:01.937088Z",
     "start_time": "2022-09-27T14:32:01.934047Z"
    },
    "hidden": true
   },
   "outputs": [],
   "source": [
    "dropped_locs_data_count = dropped_locations['05-25-2017':].shape[0]"
   ]
  },
  {
   "cell_type": "code",
   "execution_count": null,
   "id": "27b8f6ff",
   "metadata": {
    "ExecuteTime": {
     "end_time": "2022-09-27T14:32:06.012838Z",
     "start_time": "2022-09-27T14:32:06.008644Z"
    },
    "hidden": true
   },
   "outputs": [],
   "source": [
    "dropped_locs_data_count / non_nan"
   ]
  },
  {
   "cell_type": "code",
   "execution_count": null,
   "id": "e78e5c9c",
   "metadata": {
    "ExecuteTime": {
     "end_time": "2022-09-27T01:44:55.426080Z",
     "start_time": "2022-09-27T01:44:55.277753Z"
    },
    "hidden": true
   },
   "outputs": [],
   "source": [
    "regions = gpd.read_file('data/ne_50m_admin_1_states_provinces.zip')\n",
    "states = regions[regions.admin == 'United States of America']\n",
    "contiguous_us = states[(states.name != 'Alaska') & (states.name != 'Hawaii')]"
   ]
  },
  {
   "cell_type": "code",
   "execution_count": null,
   "id": "7df746dd",
   "metadata": {
    "ExecuteTime": {
     "end_time": "2022-09-27T01:45:01.728611Z",
     "start_time": "2022-09-27T01:45:01.725612Z"
    },
    "hidden": true
   },
   "outputs": [],
   "source": [
    "new = ds.copy()"
   ]
  },
  {
   "cell_type": "code",
   "execution_count": null,
   "id": "b8ec1f1f",
   "metadata": {
    "ExecuteTime": {
     "end_time": "2022-09-27T01:45:18.502682Z",
     "start_time": "2022-09-27T01:45:18.495138Z"
    },
    "hidden": true
   },
   "outputs": [],
   "source": [
    "new['a'] = xr.full_like(ds['Extra Trees'], fill_value=1)"
   ]
  },
  {
   "cell_type": "code",
   "execution_count": null,
   "id": "4315c168",
   "metadata": {
    "ExecuteTime": {
     "end_time": "2022-09-27T01:45:19.379914Z",
     "start_time": "2022-09-27T01:45:19.377056Z"
    },
    "hidden": true
   },
   "outputs": [],
   "source": [
    "from shapely.geometry import mapping"
   ]
  },
  {
   "cell_type": "code",
   "execution_count": null,
   "id": "ae34fa9b",
   "metadata": {
    "ExecuteTime": {
     "end_time": "2022-09-27T01:45:20.712771Z",
     "start_time": "2022-09-27T01:45:20.330726Z"
    },
    "hidden": true
   },
   "outputs": [],
   "source": [
    "new.rio.write_crs(proj.to_string(), inplace=True)\n",
    "\n",
    "contiguous_us = contiguous_us.to_crs(new.rio.crs)\n",
    "clipped = new[['Extra Trees', 'a']].rio.clip(contiguous_us.geometry.apply(mapping), drop=True)"
   ]
  },
  {
   "cell_type": "code",
   "execution_count": null,
   "id": "706b5268",
   "metadata": {
    "ExecuteTime": {
     "end_time": "2022-09-27T01:45:22.832946Z",
     "start_time": "2022-09-27T01:45:21.413343Z"
    },
    "hidden": true
   },
   "outputs": [],
   "source": [
    "clipped['a'].isel(t=0).plot()"
   ]
  },
  {
   "cell_type": "code",
   "execution_count": null,
   "id": "d97fb871",
   "metadata": {
    "ExecuteTime": {
     "end_time": "2022-09-27T01:45:23.721464Z",
     "start_time": "2022-09-27T01:45:23.715035Z"
    },
    "hidden": true
   },
   "outputs": [],
   "source": [
    "x = clipped.x.data\n",
    "y = clipped.y.data\n",
    "\n",
    "xs, ys = np.meshgrid(x, y)"
   ]
  },
  {
   "cell_type": "code",
   "execution_count": null,
   "id": "efd80e82",
   "metadata": {
    "ExecuteTime": {
     "end_time": "2022-09-27T01:45:40.168554Z",
     "start_time": "2022-09-27T01:45:39.678442Z"
    },
    "hidden": true
   },
   "outputs": [],
   "source": [
    "lonlat = plate.transform_points(src_crs=proj, x=xs, y=ys)"
   ]
  },
  {
   "cell_type": "code",
   "execution_count": null,
   "id": "d9a0cfe6",
   "metadata": {
    "ExecuteTime": {
     "end_time": "2022-09-27T01:45:40.204665Z",
     "start_time": "2022-09-27T01:45:40.201892Z"
    },
    "hidden": true
   },
   "outputs": [],
   "source": [
    "lons, lats = lonlat[:,:,0], lonlat[:,:,1]"
   ]
  },
  {
   "cell_type": "code",
   "execution_count": null,
   "id": "407b4a81",
   "metadata": {
    "ExecuteTime": {
     "end_time": "2022-09-27T01:45:40.687255Z",
     "start_time": "2022-09-27T01:45:40.668946Z"
    },
    "hidden": true
   },
   "outputs": [],
   "source": [
    "satlat = ds.goes_imager_projection.latitude_of_projection_origin\n",
    "satlon = ds.goes_imager_projection.longitude_of_projection_origin\n",
    "sath = ds.goes_imager_projection.perspective_point_height\n",
    "sattime = pd.to_datetime(ds.isel(t=0).t.item()).to_pydatetime()"
   ]
  },
  {
   "cell_type": "code",
   "execution_count": null,
   "id": "22a57cde",
   "metadata": {
    "ExecuteTime": {
     "end_time": "2022-09-27T01:45:41.701532Z",
     "start_time": "2022-09-27T01:45:41.184381Z"
    },
    "hidden": true
   },
   "outputs": [],
   "source": [
    "from pyorbital.orbital import get_observer_look\n",
    "az, el = get_observer_look(\n",
    "    satlon, satlat, sath/1000,\n",
    "    sattime,\n",
    "    lons, lats, 0)\n",
    "\n",
    "el = 90 - np.where(el < 0, np.nan, el)"
   ]
  },
  {
   "cell_type": "code",
   "execution_count": null,
   "id": "48a75807",
   "metadata": {
    "ExecuteTime": {
     "end_time": "2022-09-27T01:45:57.162972Z",
     "start_time": "2022-09-27T01:45:57.154295Z"
    },
    "hidden": true
   },
   "outputs": [],
   "source": [
    "clipped['zenith'] = xr.full_like(clipped['Extra Trees'], fill_value=np.nan)\n",
    "clipped['zenith'].attrs = {}\n",
    "clipped['zenith'] = clipped['zenith'].isel(t=0)"
   ]
  },
  {
   "cell_type": "code",
   "execution_count": null,
   "id": "c4834048",
   "metadata": {
    "ExecuteTime": {
     "end_time": "2022-09-27T01:45:58.513762Z",
     "start_time": "2022-09-27T01:45:58.511347Z"
    },
    "hidden": true
   },
   "outputs": [],
   "source": [
    "clipped['zenith'].data = el"
   ]
  },
  {
   "cell_type": "code",
   "execution_count": null,
   "id": "5e416b0d",
   "metadata": {
    "ExecuteTime": {
     "end_time": "2022-09-27T01:46:04.317743Z",
     "start_time": "2022-09-27T01:46:04.295581Z"
    },
    "hidden": true
   },
   "outputs": [],
   "source": [
    "nonviewable = xr.where(clipped.zenith >= 60, clipped.a, np.nan)\n",
    "viewable = xr.where(clipped.zenith < 60, clipped.a, np.nan)"
   ]
  },
  {
   "cell_type": "code",
   "execution_count": null,
   "id": "2400a71c",
   "metadata": {
    "ExecuteTime": {
     "end_time": "2022-09-27T01:46:06.599315Z",
     "start_time": "2022-09-27T01:46:05.128163Z"
    },
    "hidden": true
   },
   "outputs": [],
   "source": [
    "viewable.isel(t=0).plot()"
   ]
  },
  {
   "cell_type": "code",
   "execution_count": null,
   "id": "9f432a90",
   "metadata": {
    "ExecuteTime": {
     "end_time": "2022-09-23T19:03:15.190503Z",
     "start_time": "2022-09-23T19:03:13.811807Z"
    },
    "hidden": true
   },
   "outputs": [],
   "source": [
    "nonviewable.isel(t=0).plot()"
   ]
  },
  {
   "cell_type": "code",
   "execution_count": null,
   "id": "e19340b3",
   "metadata": {
    "ExecuteTime": {
     "end_time": "2022-09-27T01:46:48.292286Z",
     "start_time": "2022-09-27T01:46:48.246925Z"
    },
    "hidden": true
   },
   "outputs": [],
   "source": [
    "viewable_count = viewable.isel(t=10).count().compute().item()\n",
    "nonviewable_count = nonviewable.isel(t=10).count().compute().item()"
   ]
  },
  {
   "cell_type": "code",
   "execution_count": null,
   "id": "150482e1",
   "metadata": {
    "ExecuteTime": {
     "end_time": "2022-09-27T01:46:48.418882Z",
     "start_time": "2022-09-27T01:46:48.414714Z"
    },
    "hidden": true
   },
   "outputs": [],
   "source": [
    "viewable_count, nonviewable_count"
   ]
  },
  {
   "cell_type": "code",
   "execution_count": null,
   "id": "c4c61a6e",
   "metadata": {
    "ExecuteTime": {
     "end_time": "2022-09-27T01:53:29.225131Z",
     "start_time": "2022-09-27T01:47:27.182695Z"
    },
    "hidden": true
   },
   "outputs": [],
   "source": [
    "total_observations = ds['Extra Trees'].count().compute()"
   ]
  },
  {
   "cell_type": "code",
   "execution_count": null,
   "id": "bcfdb5e6",
   "metadata": {
    "ExecuteTime": {
     "end_time": "2022-09-27T02:02:13.820574Z",
     "start_time": "2022-09-27T02:02:13.816404Z"
    },
    "hidden": true
   },
   "outputs": [],
   "source": [
    "861167*365 - 201179963"
   ]
  },
  {
   "cell_type": "code",
   "execution_count": null,
   "id": "625a3973",
   "metadata": {
    "ExecuteTime": {
     "end_time": "2022-09-27T02:01:49.296414Z",
     "start_time": "2022-09-27T02:01:49.291118Z"
    },
    "hidden": true
   },
   "outputs": [],
   "source": [
    "total_observations"
   ]
  },
  {
   "cell_type": "code",
   "execution_count": null,
   "id": "d237ab45",
   "metadata": {
    "ExecuteTime": {
     "end_time": "2022-09-27T01:57:08.666769Z",
     "start_time": "2022-09-27T01:53:29.227410Z"
    },
    "hidden": true
   },
   "outputs": [],
   "source": [
    "daily_observations = ds['Extra Trees'].count('t').compute()"
   ]
  },
  {
   "cell_type": "code",
   "execution_count": null,
   "id": "d7fec4a7",
   "metadata": {
    "ExecuteTime": {
     "end_time": "2022-09-27T01:57:10.163113Z",
     "start_time": "2022-09-27T01:57:08.669188Z"
    },
    "hidden": true,
    "scrolled": true
   },
   "outputs": [],
   "source": [
    "daily_observations.sel(x=clipped.x, y=clipped.y).plot()"
   ]
  },
  {
   "cell_type": "code",
   "execution_count": null,
   "id": "bda1dbee",
   "metadata": {
    "ExecuteTime": {
     "end_time": "2022-09-27T02:00:36.719528Z",
     "start_time": "2022-09-27T02:00:36.539371Z"
    },
    "hidden": true
   },
   "outputs": [],
   "source": [
    "daily_observations.rio.write_crs(proj.to_string(), inplace=True)\n",
    "\n",
    "contiguous_us = contiguous_us.to_crs(new.rio.crs)\n",
    "obs = daily_observations.rio.clip(contiguous_us.geometry.apply(mapping), drop=True)"
   ]
  },
  {
   "cell_type": "code",
   "execution_count": null,
   "id": "54548271",
   "metadata": {
    "ExecuteTime": {
     "end_time": "2022-09-27T02:00:37.338836Z",
     "start_time": "2022-09-27T02:00:37.321808Z"
    },
    "hidden": true
   },
   "outputs": [],
   "source": [
    "obs = obs.where(obs > 0)"
   ]
  },
  {
   "cell_type": "code",
   "execution_count": null,
   "id": "bac6391e",
   "metadata": {
    "ExecuteTime": {
     "end_time": "2022-09-28T15:23:39.931906Z",
     "start_time": "2022-09-28T15:23:39.420505Z"
    },
    "hidden": true
   },
   "outputs": [],
   "source": [
    "obs.name = 'Number of PM2.5 Estimates'"
   ]
  },
  {
   "cell_type": "code",
   "execution_count": null,
   "id": "b53770b4",
   "metadata": {
    "ExecuteTime": {
     "end_time": "2022-09-27T02:00:39.542783Z",
     "start_time": "2022-09-27T02:00:39.539843Z"
    },
    "hidden": true
   },
   "outputs": [],
   "source": [
    "obs = obs.drop_vars(['spatial_ref'])"
   ]
  },
  {
   "cell_type": "code",
   "execution_count": null,
   "id": "64162fd2",
   "metadata": {
    "ExecuteTime": {
     "end_time": "2022-09-27T02:04:10.535927Z",
     "start_time": "2022-09-27T02:04:10.528883Z"
    },
    "hidden": true
   },
   "outputs": [],
   "source": [
    "obs.attrs = dict(\n",
    "    total_us_grid_cells=viewable_count+nonviewable_count,\n",
    "    viewable_us_grid_cells = viewable_count,\n",
    "    nonviewable_us_grid_cells = nonviewable_count,\n",
    "    cells_with_observations = obs.count().item(),\n",
    "    days_locations_with_observations = total_observations.item()\n",
    ")"
   ]
  },
  {
   "cell_type": "code",
   "execution_count": null,
   "id": "07d7e24d",
   "metadata": {
    "ExecuteTime": {
     "end_time": "2022-09-27T02:04:12.192908Z",
     "start_time": "2022-09-27T02:04:12.184683Z"
    },
    "hidden": true
   },
   "outputs": [],
   "source": [
    "obs.count()"
   ]
  },
  {
   "cell_type": "code",
   "execution_count": null,
   "id": "3e2be629",
   "metadata": {
    "ExecuteTime": {
     "end_time": "2022-09-28T15:26:38.771041Z",
     "start_time": "2022-09-28T15:26:38.758462Z"
    },
    "hidden": true
   },
   "outputs": [],
   "source": [
    "obs.to_netcdf(f'{save_path}/number_of_days_observations.nc')"
   ]
  },
  {
   "cell_type": "code",
   "execution_count": null,
   "id": "235f0475",
   "metadata": {
    "ExecuteTime": {
     "end_time": "2022-09-28T15:23:06.171824Z",
     "start_time": "2022-09-28T15:23:06.156611Z"
    },
    "hidden": true
   },
   "outputs": [],
   "source": [
    "with xr.open_dataset(f'{save_path}/number_of_days_observations.nc') as obs:\n",
    "    obs.load()"
   ]
  },
  {
   "cell_type": "code",
   "execution_count": null,
   "id": "4838bcd4",
   "metadata": {
    "ExecuteTime": {
     "end_time": "2022-09-28T15:27:26.549903Z",
     "start_time": "2022-09-28T15:27:17.807112Z"
    },
    "hidden": true
   },
   "outputs": [],
   "source": [
    "fig, ax = plt.subplots(dpi=300, subplot_kw=dict(projection=equal_area))\n",
    "\n",
    "im = obs['Number of PM2.5 Estimates'].plot(ax=ax, transform=proj, add_colorbar=False)\n",
    "\n",
    "cb = fig.colorbar(im, shrink=0.7)\n",
    "cb.set_label('Number of PM$_{2.5}$ Estimates')\n",
    "cb.outline.set_linewidth(0)\n",
    "\n",
    "ax.spines[:].set_visible(False)\n",
    "ax.add_feature(cfeature.STATES)\n",
    "\n",
    "set_extent(ax, extents['US'])\n",
    "\n",
    "fig.tight_layout()\n",
    "\n",
    "fig.savefig(f'{save_path}/data-availability.png', format='png', bbox_inches = \"tight\")"
   ]
  },
  {
   "cell_type": "markdown",
   "id": "8e3f7912",
   "metadata": {
    "ExecuteTime": {
     "end_time": "2022-09-09T14:27:06.290458Z",
     "start_time": "2022-09-09T14:27:06.287929Z"
    },
    "heading_collapsed": true
   },
   "source": [
    "# Animation"
   ]
  },
  {
   "cell_type": "code",
   "execution_count": null,
   "id": "ce9a5b67",
   "metadata": {
    "ExecuteTime": {
     "end_time": "2022-09-13T14:34:17.920047Z",
     "start_time": "2022-09-13T14:33:50.678070Z"
    },
    "hidden": true
   },
   "outputs": [],
   "source": [
    "fig = plt.figure(figsize=(5, 5), dpi=300)\n",
    "ax = fig.add_subplot(projection=equal_area)\n",
    "\n",
    "times = ds.t.values\n",
    "first, times = times[0], times[1:]\n",
    "\n",
    "mesh = ds['Extra Trees'].sel(t=first) \\\n",
    "    .plot(\n",
    "        x='x', y='y', \n",
    "        vmin=0, vmax=20, \n",
    "        cmap='viridis', \n",
    "        ax=ax,\n",
    "        transform = geo,\n",
    "        add_colorbar=False\n",
    ")\n",
    "ax.set_title(pd.to_datetime(first.item()).strftime('%b. %-d, %Y'))\n",
    "cb = fig.colorbar(mesh,fraction=0.046, pad=0.1, extend='both')\n",
    "cb.set_label('PM$_{2.5}$')\n",
    "cb.outline.set_linewidth(0)\n",
    "\n",
    "ax.spines[:].set_visible(False)\n",
    "\n",
    "letters = string.ascii_uppercase[:12][::-1]\n",
    "depth = (list(range(10000, 200, -1000)) + [200, 0])[::-1]\n",
    "\n",
    "for idx, (letter, depth) in enumerate(zip(letters, depth)):\n",
    "    ax.add_feature(\n",
    "        cfeature.NaturalEarthFeature(\n",
    "            name=f'bathymetry_{letter}_{depth}', scale='10m', category='physical', \n",
    "            color=cm.Blues((idx+1) / len(letters)))\n",
    "    )\n",
    "    \n",
    "ax.coastlines(color='gray')\n",
    "ax.set_extent([-118, -66.5, 25, 50], plate)\n",
    "\n",
    "gl = ax.gridlines(linewidth=0.5, color='black', alpha=0.5, linestyle='--', draw_labels=True)\n",
    "gl.top_labels = False\n",
    "gl.right_labels = False\n",
    "style = {'size': 8}\n",
    "gl.xlabel_style = style\n",
    "gl.ylabel_style = style\n",
    "\n",
    "# Next we need to create a function that updates the values for the colormesh, as well as the title.\n",
    "def animate(frame):\n",
    "    mesh.set_array(ds['Extra Trees'].sel(t=ds.t.values[frame]).values.flatten())\n",
    "    ax.set_title(pd.to_datetime(ds.t[frame].item()).strftime('%b. %-d, %Y'))\n",
    "\n",
    "# Finally, we use the animation module to create the animation.\n",
    "ani = animation.FuncAnimation(\n",
    "    fig,             # figure\n",
    "    animate,         # name of the function above\n",
    "    frames=ds.t.values.size,       # Could also be iterable or list\n",
    "    interval=200     # ms between frames\n",
    ")"
   ]
  },
  {
   "cell_type": "code",
   "execution_count": null,
   "id": "9040178f",
   "metadata": {
    "ExecuteTime": {
     "end_time": "2022-10-01T22:22:29.623120Z",
     "start_time": "2022-10-01T22:18:37.288177Z"
    },
    "hidden": true
   },
   "outputs": [],
   "source": [
    "df = ds['Extra Trees'].to_dataframe()"
   ]
  },
  {
   "cell_type": "code",
   "execution_count": null,
   "id": "6f9bc4b3",
   "metadata": {
    "ExecuteTime": {
     "end_time": "2022-10-02T16:25:45.020494Z",
     "start_time": "2022-10-02T16:25:34.946722Z"
    },
    "hidden": true
   },
   "outputs": [],
   "source": [
    "fig = plt.figure(figsize=(5, 5), dpi=300)\n",
    "ax = fig.add_subplot(projection=equal_area)\n",
    "\n",
    "times = ds.t.values\n",
    "first, times = times[0], times[1:]\n",
    "\n",
    "# ax.coastlines(color='gray', lw=0.5)\n",
    "ax.add_feature(cfeature.STATES, lw=0.5, alpha=0.2)\n",
    "\n",
    "mesh = ds['Extra Trees'].sel(t=first) \\\n",
    "    .plot(\n",
    "        x='x', y='y', \n",
    "        vmin=0, vmax=20, \n",
    "        cmap='viridis', \n",
    "        ax=ax,\n",
    "        transform = proj,\n",
    "        add_colorbar=False\n",
    ")\n",
    "\n",
    "ax.set_title(pd.to_datetime(first.item()).strftime('%b. %-d, %Y'))\n",
    "\n",
    "# cb = fig.colorbar(mesh,fraction=0.046, pad=0.1, extend='both')\n",
    "# cb.set_label('PM$_{2.5}$')\n",
    "# cb.outline.set_linewidth(0)\n",
    "\n",
    "ax.spines[:].set_visible(False)\n",
    "    \n",
    "set_extent(ax, extents['US'])\n",
    "\n",
    "# gl = ax.gridlines(linewidth=0.5, color='black', alpha=0.3, linestyle='--', draw_labels=True)\n",
    "# gl.top_labels = False\n",
    "# gl.right_labels = False\n",
    "# style = {'size': 8}\n",
    "# gl.xlabel_style = style\n",
    "# gl.ylabel_style = style\n",
    "\n",
    "# Next we need to create a function that updates the values for the colormesh, as well as the title.\n",
    "def animate(frame):\n",
    "    mesh.set_array(ds['Extra Trees'].sel(t=ds.t.values[frame]).values.flatten())\n",
    "    ax.set_title(pd.to_datetime(ds.t[frame].item()).strftime('%b. %-d, %Y'))\n",
    "\n",
    "# Finally, we use the animation module to create the animation.\n",
    "ani = animation.FuncAnimation(\n",
    "    fig,             # figure\n",
    "    animate,         # name of the function above\n",
    "    frames=ds.t.values.size,       # Could also be iterable or list\n",
    "    interval=1000     # ms between frames\n",
    ")"
   ]
  },
  {
   "cell_type": "code",
   "execution_count": null,
   "id": "1e3de69d",
   "metadata": {
    "ExecuteTime": {
     "end_time": "2022-10-02T17:00:14.104596Z",
     "start_time": "2022-10-02T16:26:02.383711Z"
    },
    "hidden": true
   },
   "outputs": [],
   "source": [
    "ani.save(f'{save_path}/daily-pm25-no-label.mov', savefig_kwargs=dict(transparent=True))"
   ]
  },
  {
   "cell_type": "code",
   "execution_count": null,
   "id": "ab1b4fee",
   "metadata": {
    "ExecuteTime": {
     "end_time": "2022-10-02T01:49:21.650853Z",
     "start_time": "2022-10-02T00:38:39.381417Z"
    },
    "hidden": true
   },
   "outputs": [],
   "source": [
    "HTML(ani.to_jshtml())"
   ]
  },
  {
   "cell_type": "code",
   "execution_count": null,
   "id": "7d66259c",
   "metadata": {
    "hidden": true
   },
   "outputs": [],
   "source": []
  }
 ],
 "metadata": {
  "kernelspec": {
   "display_name": "Python 3 (ipykernel)",
   "language": "python",
   "name": "python3"
  },
  "language_info": {
   "codemirror_mode": {
    "name": "ipython",
    "version": 3
   },
   "file_extension": ".py",
   "mimetype": "text/x-python",
   "name": "python",
   "nbconvert_exporter": "python",
   "pygments_lexer": "ipython3",
   "version": "3.10.6"
  },
  "vscode": {
   "interpreter": {
    "hash": "aee8b7b246df8f9039afb4144a1f6fd8d2ca17a180786b69acc140d282b71a49"
   }
  }
 },
 "nbformat": 4,
 "nbformat_minor": 5
}
