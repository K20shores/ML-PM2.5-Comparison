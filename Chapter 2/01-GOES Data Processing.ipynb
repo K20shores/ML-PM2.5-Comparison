{
 "cells": [
  {
   "cell_type": "markdown",
   "id": "61e52512",
   "metadata": {},
   "source": [
    "All data downloaded from [here](https://registry.opendata.aws/noaa-goes/)\n",
    "\n",
    "Grid mappings that metpy expects to find in attributes somewhere must be one of [these](https://cfconventions.org/Data/cf-conventions/cf-conventions-1.7/cf-conventions.html#appendix-grid-mappings)\n",
    "\n",
    "[Super useful GOES image description](https://makersportal.com/blog/2018/11/25/goes-r-satellite-latitude-and-longitude-grid-projection-algorithm)\n",
    "\n",
    "[Beginner's guide to GOES data](https://www.goes-r.gov/downloads/resources/documents/Beginners_Guide_to_GOES-R_Series_Data.pdf)\n",
    "\n",
    "[GOES AOD Data description](https://www.star.nesdis.noaa.gov/goesr/documents/ATBDs/Baseline/ATBD_GOES-R_Aerosol_Optical_Depth_v4.2_Feb2018.pdf), table 3-22 on page 67 describes the output data\n",
    "- [all GOES documents](https://www.goes-r.gov/resources/docs.html)\n",
    "\n",
    "Also, some influence from the repositories from [here](https://github.com/xiaoheyu), which is the basis of [this paper](https://www.mdpi.com/2072-4292/13/23/4788)\n",
    "\n",
    "[Short GOES-R aerosol training](http://cimss.ssec.wisc.edu/goes/goes-r/training/recordings/Aerosol/presentation_html5.html?lms=1)\n",
    "\n",
    "[GOES-R reference(?) with a document to calculate SZA and LZA](https://www.ncei.noaa.gov/products/satellite/goes-r-series)"
   ]
  },
  {
   "cell_type": "code",
   "execution_count": null,
   "id": "6f1fcb91",
   "metadata": {
    "ExecuteTime": {
     "end_time": "2022-09-25T13:54:22.100238Z",
     "start_time": "2022-09-25T13:54:15.811764Z"
    }
   },
   "outputs": [],
   "source": [
    "import metpy\n",
    "import datetime\n",
    "import rioxarray\n",
    "import os\n",
    "import hvplot.xarray\n",
    "import hvplot\n",
    "import glob\n",
    "import warnings\n",
    "\n",
    "import geopandas as gpd\n",
    "import xarray as xr\n",
    "import numpy as np\n",
    "import cartopy.crs as ccrs\n",
    "import matplotlib.pyplot as plt\n",
    "import pandas as pd\n",
    "import cartopy.feature as cfeature\n",
    "import holoviews as hv\n",
    "import matplotlib.colors as colors\n",
    "hv.extension('bokeh')\n",
    "\n",
    "from pyproj import Proj\n",
    "from tqdm.notebook import tqdm\n",
    "from shapely.geometry import mapping\n",
    "from dask import delayed\n",
    "from dask.distributed import Client\n",
    "from holoviews import opts\n",
    "from pyorbital.orbital import get_observer_look\n",
    "\n",
    "xr.set_options(keep_attrs=True)"
   ]
  },
  {
   "cell_type": "code",
   "execution_count": null,
   "id": "1ac32b67",
   "metadata": {
    "ExecuteTime": {
     "end_time": "2022-08-29T13:01:13.877156Z",
     "start_time": "2022-08-29T13:01:13.871499Z"
    },
    "code_folding": []
   },
   "outputs": [],
   "source": [
    "def get_projection(ds, variable):\n",
    "    dat = ds.metpy.parse_cf(variable)\n",
    "    return dat, dat.metpy.cartopy_crs\n",
    "    \n",
    "def change_xy_to_geospatial(ds, variable):\n",
    "    dat = ds.metpy.parse_cf(variable)\n",
    "    geos = dat.metpy.cartopy_crs\n",
    "    \n",
    "    x = dat.x\n",
    "    y = dat.y\n",
    "    \n",
    "    sat_h = ds.goes_imager_projection.perspective_point_height\n",
    "    ds.attrs[\"crs\"] = geos\n",
    "    ds = ds.assign_coords(x=ds.x * sat_h, y=ds.y * sat_h)\n",
    "    \n",
    "    ds.x.attrs = {'units': 'm',\n",
    "     'axis': 'X',\n",
    "     'long_name': 'X sweep in crs',\n",
    "    }\n",
    "    ds.y.attrs = {'units': 'm',\n",
    "     'axis': 'Y',\n",
    "     'long_name': 'Y sweep in crs',\n",
    "    }\n",
    "\n",
    "    return ds"
   ]
  },
  {
   "cell_type": "code",
   "execution_count": null,
   "id": "94aa75e3",
   "metadata": {
    "ExecuteTime": {
     "end_time": "2022-08-29T13:01:13.889061Z",
     "start_time": "2022-08-29T13:01:13.884991Z"
    },
    "code_folding": [
     0
    ]
   },
   "outputs": [],
   "source": [
    "def listdir(path):\n",
    "    for item in os.listdir(path):\n",
    "        if item.startswith('.'):\n",
    "            # ignore hidden files\n",
    "            continue\n",
    "        else:\n",
    "            yield item"
   ]
  },
  {
   "cell_type": "code",
   "execution_count": null,
   "id": "3f3a40f1",
   "metadata": {
    "ExecuteTime": {
     "end_time": "2022-09-21T16:33:56.944048Z",
     "start_time": "2022-09-21T16:33:56.827620Z"
    }
   },
   "outputs": [],
   "source": [
    "regions = gpd.read_file('data/ne_50m_admin_1_states_provinces.zip')\n",
    "states = regions[regions.admin == 'United States of America']\n",
    "contiguous_us = states[(states.name != 'Alaska') & (states.name != 'Hawaii')]"
   ]
  },
  {
   "cell_type": "markdown",
   "id": "ff231e01",
   "metadata": {
    "heading_collapsed": true
   },
   "source": [
    "# GOES Zenith Angle"
   ]
  },
  {
   "cell_type": "code",
   "execution_count": null,
   "id": "4952846c",
   "metadata": {
    "ExecuteTime": {
     "end_time": "2022-09-25T13:58:30.700814Z",
     "start_time": "2022-09-25T13:58:30.698165Z"
    },
    "hidden": true
   },
   "outputs": [],
   "source": [
    "plate = ccrs.PlateCarree()"
   ]
  },
  {
   "cell_type": "code",
   "execution_count": null,
   "id": "e51800bf",
   "metadata": {
    "ExecuteTime": {
     "end_time": "2022-09-25T13:57:53.371363Z",
     "start_time": "2022-09-25T13:57:53.124607Z"
    },
    "hidden": true
   },
   "outputs": [],
   "source": [
    "with xr.open_dataset('/Users/kyle/Downloads/OR_ABI-L2-AODC-M6_G16_s20210411801068_e20210411803441_c20210411806227.nc') as ds:\n",
    "    ds.load()\n"
   ]
  },
  {
   "cell_type": "code",
   "execution_count": null,
   "id": "1dd5e3a2",
   "metadata": {
    "ExecuteTime": {
     "end_time": "2022-09-25T13:57:54.667240Z",
     "start_time": "2022-09-25T13:57:54.513751Z"
    },
    "hidden": true
   },
   "outputs": [],
   "source": [
    "a = ds.metpy.parse_cf('AOD')\n",
    "proj = a.metpy.cartopy_crs"
   ]
  },
  {
   "cell_type": "code",
   "execution_count": null,
   "id": "10dc41d9",
   "metadata": {
    "ExecuteTime": {
     "end_time": "2022-09-25T13:57:55.678304Z",
     "start_time": "2022-09-25T13:57:55.672908Z"
    },
    "hidden": true
   },
   "outputs": [],
   "source": [
    "satlat = ds.goes_imager_projection.latitude_of_projection_origin\n",
    "satlon = ds.goes_imager_projection.longitude_of_projection_origin\n",
    "sath = ds.goes_imager_projection.perspective_point_height\n",
    "sattime = pd.to_datetime(ds.t.item()).to_pydatetime()"
   ]
  },
  {
   "cell_type": "code",
   "execution_count": null,
   "id": "8cf9f107",
   "metadata": {
    "ExecuteTime": {
     "end_time": "2022-09-25T13:57:56.568097Z",
     "start_time": "2022-09-25T13:57:56.565267Z"
    },
    "hidden": true
   },
   "outputs": [],
   "source": [
    "xs, ys = np.meshgrid(np.arange(-180, 180), np.arange(-90, 90))"
   ]
  },
  {
   "cell_type": "code",
   "execution_count": null,
   "id": "73621899",
   "metadata": {
    "ExecuteTime": {
     "end_time": "2022-09-25T13:57:58.409667Z",
     "start_time": "2022-09-25T13:57:58.392528Z"
    },
    "hidden": true
   },
   "outputs": [],
   "source": [
    "az, el = get_observer_look(\n",
    "    satlon, satlat, sath/1000,\n",
    "    sattime,\n",
    "    xs, ys, 0)\n",
    "\n",
    "el = 90 - np.where(el < 0, np.nan, el)\n",
    "# el = np.where(el <= 90, np.nan, el)"
   ]
  },
  {
   "cell_type": "markdown",
   "id": "c6f5efe5",
   "metadata": {
    "ExecuteTime": {
     "end_time": "2022-09-18T23:58:53.917827Z",
     "start_time": "2022-09-18T23:58:53.913587Z"
    },
    "hidden": true
   },
   "source": [
    "[compared to this](https://www.researchgate.net/figure/Limb-area-between-the-80-and-90-view-zenith-angle-isolines-of-the-GOES-16-dotted_fig1_353923891)"
   ]
  },
  {
   "cell_type": "code",
   "execution_count": null,
   "id": "eb541a67",
   "metadata": {
    "ExecuteTime": {
     "end_time": "2022-09-25T16:39:08.306554Z",
     "start_time": "2022-09-25T16:39:08.215080Z"
    },
    "hidden": true
   },
   "outputs": [],
   "source": [
    "from geographiclib.geodesic import Geodesic\n",
    "\n",
    "line = Geodesic.WGS84.Line(\n",
    "    lat1=ds.goes_imager_projection.latitude_of_projection_origin,\n",
    "    lon1=ds.goes_imager_projection.longitude_of_projection_origin,\n",
    "    azi1=-20\n",
    ")\n",
    "\n",
    "_xs, _ys = [], []\n",
    "\n",
    "for level in np.arange(0, 90.1, 0.05):\n",
    "    pos = line.ArcPosition(level)\n",
    "    _xs.append(pos['lon2'])\n",
    "    _ys.append(pos['lat2'])\n",
    "\n",
    "az, angles = get_observer_look(\n",
    "    satlon, satlat, sath/1000,\n",
    "    sattime,\n",
    "    _xs, _ys, 0)\n",
    "angles = 90 - angles\n",
    "\n",
    "it = iter(levels)\n",
    "level = next(it)\n",
    "idxs = []\n",
    "for idx, a in enumerate(angles):\n",
    "    if np.isclose(a, level, 0.05):\n",
    "        idxs.append(idx)\n",
    "        level = next(it, None)\n",
    "        if level is None: break\n",
    "            \n",
    "label_x_locs = np.array(_xs)[idxs]\n",
    "label_y_locs = np.array(_ys)[idxs]\n",
    "\n",
    "transformed = proj.transform_points(x=label_x_locs, y=label_y_locs, src_crs=plate)\n",
    "manual = list(zip(transformed[:,0], transformed[:,1]))"
   ]
  },
  {
   "cell_type": "code",
   "execution_count": null,
   "id": "829cb641",
   "metadata": {
    "ExecuteTime": {
     "end_time": "2022-09-25T16:39:27.630464Z",
     "start_time": "2022-09-25T16:39:08.311312Z"
    },
    "hidden": true
   },
   "outputs": [],
   "source": [
    "# https://stackoverflow.com/a/18926541/5217293\n",
    "def truncate_colormap(cmap, minval=0.0, maxval=1.0, n=100):\n",
    "    new_cmap = colors.LinearSegmentedColormap.from_list(\n",
    "        'trunc({n},{a:.2f},{b:.2f})'.format(n=cmap.name, a=minval, b=maxval),\n",
    "        cmap(np.linspace(minval, maxval, n)))\n",
    "    return new_cmap\n",
    "\n",
    "def fmt(x):\n",
    "    return f\"{x:.0f}$^\\circ$\"\n",
    "\n",
    "cmap = plt.get_cmap('inferno')\n",
    "new_cmap = truncate_colormap(cmap, 0.2, 1.0)\n",
    "fig, ax = plt.subplots(dpi=300, subplot_kw=dict(projection=proj))\n",
    "\n",
    "levels = np.arange(10, 81, 10)\n",
    "mappable = ax.contour(xs, ys, el, \n",
    "                      transform=plate, \n",
    "                      levels=levels, \n",
    "                      cmap=new_cmap, \n",
    "                      alpha=0.8,\n",
    "                      linestyles='--')\n",
    "\n",
    "\n",
    "ax.clabel(mappable, mappable.levels, \n",
    "          inline=True, \n",
    "          fmt=fmt, \n",
    "          fontsize=6, \n",
    "          colors='black',\n",
    "          manual=manual\n",
    "         )\n",
    "\n",
    "\n",
    "fname = 'data/Natural_Earth_quick_start/50m_raster/NE1_50M_SR_W/NE1_50M_SR_W.tif'\n",
    "img = plt.imread(fname)\n",
    "\n",
    "ax.imshow(img, origin='upper', extent=[-180, 180, -90, 90], transform=ccrs.PlateCarree())\n",
    "\n",
    "ax.scatter(satlon, satlat, transform=plate, s=10, color='red')\n",
    "ax.add_feature(cfeature.STATES, lw=0.25)\n",
    "ax.spines[:].set_visible(False)\n",
    "\n",
    "save_path = '/Users/kyle/GoogleDrive/College/Graduate/Thesis/Figures and Data/tuned_models'\n",
    "fig.savefig(f'{save_path}/GOES-Zenith-Angle.png', format='png')"
   ]
  },
  {
   "cell_type": "code",
   "execution_count": null,
   "id": "b180c5c7",
   "metadata": {
    "ExecuteTime": {
     "end_time": "2022-09-19T00:22:45.472865Z",
     "start_time": "2022-09-19T00:22:37.807793Z"
    },
    "hidden": true
   },
   "outputs": [],
   "source": [
    "fig, ax = plt.subplots(dpi=300, subplot_kw=dict(projection=plate))\n",
    "\n",
    "ax.coastlines()\n",
    "ax.add_feature(cfeature.NaturalEarthFeature(\n",
    "    'cultural', 'admin_0_countries', '50m',\n",
    "    edgecolor='gray', facecolor='none'))\n",
    "\n",
    "ax.scatter(satlon, satlat, s=10, color='red')\n",
    "ax.imshow(img, origin='upper', extent=[-180, 180, -90, 90], transform=ccrs.PlateCarree())\n",
    "\n",
    "ax.set_extent([-180, 180, -90, 90], plate)\n",
    "\n",
    "ax.spines[:].set_visible(False)\n",
    "gl = ax.gridlines(alpha=0.3, draw_labels=True)\n",
    "gl.top_labels=False\n",
    "gl.right_labels=False"
   ]
  },
  {
   "cell_type": "markdown",
   "id": "58d2cf85",
   "metadata": {
    "heading_collapsed": true
   },
   "source": [
    "# Exploring Data Quality"
   ]
  },
  {
   "cell_type": "code",
   "execution_count": null,
   "id": "72dd0681",
   "metadata": {
    "ExecuteTime": {
     "end_time": "2022-06-07T16:17:35.137667Z",
     "start_time": "2022-06-07T16:17:35.135277Z"
    },
    "hidden": true
   },
   "outputs": [],
   "source": [
    "data_directory = '/Volumes/Shores/GOES/AODC/2021/001'"
   ]
  },
  {
   "cell_type": "code",
   "execution_count": null,
   "id": "7d9aff10",
   "metadata": {
    "ExecuteTime": {
     "end_time": "2022-06-07T16:17:35.147825Z",
     "start_time": "2022-06-07T16:17:35.142528Z"
    },
    "hidden": true
   },
   "outputs": [],
   "source": [
    "jan_1_files = sorted(glob.glob('/Volumes/Shores/GOES/AODC/2021/001/**/*.nc'))"
   ]
  },
  {
   "cell_type": "code",
   "execution_count": null,
   "id": "5e2bd8b3",
   "metadata": {
    "ExecuteTime": {
     "end_time": "2022-06-06T18:19:22.970596Z",
     "start_time": "2022-06-06T18:19:21.900554Z"
    },
    "hidden": true
   },
   "outputs": [],
   "source": [
    "with xr.open_dataset(jan_1_files[10]) as temp:\n",
    "    temp.load()"
   ]
  },
  {
   "cell_type": "code",
   "execution_count": null,
   "id": "aad01d2c",
   "metadata": {
    "ExecuteTime": {
     "end_time": "2022-06-07T18:50:47.374868Z",
     "start_time": "2022-06-07T18:50:47.372094Z"
    },
    "hidden": true
   },
   "outputs": [],
   "source": [
    "def dqf_preprocess(ds):\n",
    "    # flags\n",
    "    # 0 high_quality_retrieval_qf \n",
    "    # 1 medium_quality_retrieval_qf \n",
    "    # 2 low_quality_retrieval_qf \n",
    "    # 3 no_retrieval_qf\n",
    "    ds = ds.where(ds.DQF < 2)\n",
    "    return ds"
   ]
  },
  {
   "cell_type": "code",
   "execution_count": null,
   "id": "ab393919",
   "metadata": {
    "ExecuteTime": {
     "end_time": "2022-06-07T16:20:09.482731Z",
     "start_time": "2022-06-07T16:17:35.566180Z"
    },
    "code_folding": [],
    "hidden": true
   },
   "outputs": [],
   "source": [
    "ds = xr.open_mfdataset(\n",
    "    jan_1_files,\n",
    "    concat_dim=\"t\", \n",
    "    parallel=True, \n",
    "    combine='nested',\n",
    "    data_vars='different', \n",
    "#     preprocess=dqf_preprocess\n",
    ")"
   ]
  },
  {
   "cell_type": "code",
   "execution_count": null,
   "id": "0ff48ecd",
   "metadata": {
    "ExecuteTime": {
     "end_time": "2022-06-07T16:22:07.212748Z",
     "start_time": "2022-06-07T16:21:21.761494Z"
    },
    "hidden": true
   },
   "outputs": [],
   "source": [
    "vals = ds.AOD.values.flatten()\n",
    "vals = vals[np.isfinite(vals)] \n",
    "freq, edges = np.histogram(vals)"
   ]
  },
  {
   "cell_type": "code",
   "execution_count": null,
   "id": "004218b6",
   "metadata": {
    "ExecuteTime": {
     "end_time": "2022-06-07T16:26:43.129282Z",
     "start_time": "2022-06-07T16:25:56.488538Z"
    },
    "hidden": true
   },
   "outputs": [],
   "source": [
    "high = ds.where(ds.DQF == 0).AOD.values.flatten()\n",
    "high_freq, _ = np.histogram(high[np.isfinite(high)] , edges)"
   ]
  },
  {
   "cell_type": "code",
   "execution_count": null,
   "id": "302c0646",
   "metadata": {
    "ExecuteTime": {
     "end_time": "2022-06-07T16:29:31.600537Z",
     "start_time": "2022-06-07T16:28:29.686024Z"
    },
    "hidden": true
   },
   "outputs": [],
   "source": [
    "med = ds.where(ds.DQF == 1).AOD.values.flatten()\n",
    "med_freq, _ = np.histogram(med[np.isfinite(med)] , edges)"
   ]
  },
  {
   "cell_type": "code",
   "execution_count": null,
   "id": "aa3060d5",
   "metadata": {
    "ExecuteTime": {
     "end_time": "2022-06-07T16:30:47.120934Z",
     "start_time": "2022-06-07T16:29:31.653819Z"
    },
    "hidden": true
   },
   "outputs": [],
   "source": [
    "low = ds.where(ds.DQF == 2).AOD.values.flatten()\n",
    "low_freq, _ = np.histogram(low[np.isfinite(low)] , edges)"
   ]
  },
  {
   "cell_type": "code",
   "execution_count": null,
   "id": "8e48efa6",
   "metadata": {
    "ExecuteTime": {
     "end_time": "2022-06-07T16:37:32.738204Z",
     "start_time": "2022-06-07T16:36:34.230275Z"
    },
    "hidden": true
   },
   "outputs": [],
   "source": [
    "no = ds.where(ds.DQF == 3).AOD.values.flatten()\n",
    "no_freq, _ = np.histogram(no[np.isfinite(no)] , edges)"
   ]
  },
  {
   "cell_type": "code",
   "execution_count": null,
   "id": "b3b3e2e2",
   "metadata": {
    "ExecuteTime": {
     "end_time": "2022-06-07T18:25:24.587057Z",
     "start_time": "2022-06-07T18:25:24.328024Z"
    },
    "hidden": true
   },
   "outputs": [],
   "source": [
    "fig, ax = plt.subplots(dpi=200)\n",
    "\n",
    "offset = ((edges[1:] - edges[:-1]) / 5)\n",
    "xs = ((edges[1:] + edges[:-1]) / 2) - offset\n",
    "ax.grid(zorder=0)\n",
    "\n",
    "alpha=0.7\n",
    "width=0.09\n",
    "ax.bar(xs, high_freq, \n",
    "       width=width, \n",
    "       label='High',\n",
    "       alpha=alpha,\n",
    "       zorder=2)\n",
    "\n",
    "ax.bar(xs + 1*offset, med_freq, \n",
    "       width=width, \n",
    "       label='Medium', \n",
    "       alpha=alpha,\n",
    "       zorder=2)\n",
    "\n",
    "ax.bar(xs + 2*offset, low_freq, \n",
    "       width=width, \n",
    "       label='Low',\n",
    "       alpha=alpha,\n",
    "       zorder=2)\n",
    "\n",
    "ax.legend(loc='upper right')\n",
    "\n",
    "ax.set_yscale('log')\n",
    "ax.set_xticks(np.round(edges, 2));\n",
    "\n",
    "ax.tick_params(width=0, axis='y')\n",
    "for spine in ['top', 'bottom', 'left', 'right']:\n",
    "    ax.spines[spine].set_visible(False)"
   ]
  },
  {
   "cell_type": "code",
   "execution_count": null,
   "id": "3d223995",
   "metadata": {
    "ExecuteTime": {
     "end_time": "2022-06-06T17:05:06.197546Z",
     "start_time": "2022-06-06T17:04:15.121652Z"
    },
    "hidden": true
   },
   "outputs": [],
   "source": [
    "fig, ax = plt.subplots(dpi=200)\n",
    "\n",
    "counts, bins, bars = ds.AOD.where(ds.AOD > 0.45).plot(ax = ax, \n",
    "                edgecolor='tab:blue', \n",
    "                alpha=0.3, \n",
    "                rwidth=0.5,\n",
    "               )\n",
    "\n",
    "ax.set_ylim((0, ax.get_ylim()[1] * 1.2))\n",
    "ax.set_title('AOD Frequencies, 24 hours, Jan 1, 2021')\n",
    "ax.set_xticks(bins.round(2))\n",
    "ax.grid(alpha=0.5)\n",
    "\n",
    "for bar in bars:\n",
    "    ax.text(bar.get_x(), bar.get_height()*1.02, f'{bar.get_height():.2e}',\n",
    "            ha='left', rotation=45, fontsize='x-small')\n",
    "\n",
    "ax.tick_params(width=0, which='both')\n",
    "for spine in ['top', 'bottom', 'left', 'right']:\n",
    "    ax.spines[spine].set_visible(False)"
   ]
  },
  {
   "cell_type": "code",
   "execution_count": null,
   "id": "3695c3f0",
   "metadata": {
    "ExecuteTime": {
     "end_time": "2022-06-06T14:29:35.427572Z",
     "start_time": "2022-06-06T14:29:35.398545Z"
    },
    "hidden": true
   },
   "outputs": [],
   "source": [
    "lat_mean = ds.AOD.mean('x')\n",
    "lon_mean = ds.AOD.mean('y')"
   ]
  },
  {
   "cell_type": "code",
   "execution_count": null,
   "id": "3aebd3b5",
   "metadata": {
    "ExecuteTime": {
     "end_time": "2022-06-06T14:29:35.760901Z",
     "start_time": "2022-06-06T14:29:35.679535Z"
    },
    "hidden": true
   },
   "outputs": [],
   "source": [
    "lat_plot = lat_mean.hvplot(x='y', y='t', title='Latitudinal mean, Jan 1, 2021').opts(axiswise=True)\n",
    "lon_plot = lon_mean.hvplot(x='x', y='t', title='Longitudinal mean, Jan 1, 2021').opts(axiswise=True)"
   ]
  },
  {
   "cell_type": "code",
   "execution_count": null,
   "id": "0a048f28",
   "metadata": {
    "ExecuteTime": {
     "end_time": "2022-06-06T14:20:13.881820Z",
     "start_time": "2022-06-06T14:17:53.459717Z"
    },
    "hidden": true
   },
   "outputs": [],
   "source": [
    "vals = ds.AOD.values.flatten()"
   ]
  },
  {
   "cell_type": "code",
   "execution_count": null,
   "id": "961bdaca",
   "metadata": {
    "ExecuteTime": {
     "end_time": "2022-06-06T14:29:36.215951Z",
     "start_time": "2022-06-06T14:29:36.211002Z"
    },
    "hidden": true
   },
   "outputs": [],
   "source": [
    "plot = lat_plot + lon_plot"
   ]
  },
  {
   "cell_type": "code",
   "execution_count": null,
   "id": "93ba13e8",
   "metadata": {
    "ExecuteTime": {
     "end_time": "2022-06-06T14:20:17.662119Z",
     "start_time": "2022-06-06T14:20:16.083662Z"
    },
    "hidden": true
   },
   "outputs": [],
   "source": [
    "hist, bin_edges = np.histogram(vals)"
   ]
  },
  {
   "cell_type": "code",
   "execution_count": null,
   "id": "d5753256",
   "metadata": {
    "ExecuteTime": {
     "end_time": "2022-06-06T14:31:25.157987Z",
     "start_time": "2022-06-06T14:29:36.735830Z"
    },
    "hidden": true
   },
   "outputs": [],
   "source": [
    "warnings.filterwarnings('ignore')\n",
    "plot.cols(1)"
   ]
  },
  {
   "cell_type": "code",
   "execution_count": null,
   "id": "5a00d251",
   "metadata": {
    "ExecuteTime": {
     "end_time": "2022-06-03T18:03:59.321509Z",
     "start_time": "2022-06-03T18:03:02.023727Z"
    },
    "hidden": true
   },
   "outputs": [],
   "source": [
    "hvplot.save(plot.cols(1), f'/Users/kyle/Downloads/GOES-AOD-spatial-averages.html')"
   ]
  },
  {
   "cell_type": "markdown",
   "id": "71076adb",
   "metadata": {
    "heading_collapsed": true
   },
   "source": [
    "# Averaging Per Hour"
   ]
  },
  {
   "cell_type": "code",
   "execution_count": null,
   "id": "d0366c44",
   "metadata": {
    "ExecuteTime": {
     "end_time": "2022-08-28T13:02:29.680503Z",
     "start_time": "2022-08-28T13:02:29.677930Z"
    },
    "hidden": true
   },
   "outputs": [],
   "source": [
    "data_directory = '/Volumes/Shores/GOES/AODC/'"
   ]
  },
  {
   "cell_type": "code",
   "execution_count": null,
   "id": "28a8a467",
   "metadata": {
    "ExecuteTime": {
     "end_time": "2022-08-28T13:02:29.721372Z",
     "start_time": "2022-08-28T13:02:29.718356Z"
    },
    "code_folding": [
     3
    ],
    "hidden": true
   },
   "outputs": [],
   "source": [
    "args = {}\n",
    "bad_files = []\n",
    "\n",
    "for year in ['2017', '2018', '2019', '2020']:\n",
    "    year_files = {}\n",
    "    year_path = os.path.join(data_directory, year)\n",
    "    \n",
    "    for day in listdir(year_path):\n",
    "        day_path = os.path.join(year_path, day)\n",
    "\n",
    "        for hour in listdir(day_path):\n",
    "            hour_path = os.path.join(day_path, hour)\n",
    "            hour_files = sorted(glob.glob(f'{hour_path}/*.nc'))\n",
    "\n",
    "            multifile_input_path = sorted(glob.glob(f'{hour_path}/*.nc'))\n",
    "            output_directory = os.path.join(f'/Volumes/Shores/GOES/AODC/averages/{year}/{day}')\n",
    "            output_filename = f'{hour}.nc'\n",
    "\n",
    "            if not os.path.exists(output_directory):\n",
    "                os.makedirs(output_directory)\n",
    "            existing = year_files.get(day, [])\n",
    "            existing.append({\n",
    "                \"multifile_input_path\": multifile_input_path,\n",
    "                \"output_directory\": output_directory,\n",
    "                \"output_filename\": output_filename\n",
    "            })\n",
    "            year_files[day] = existing\n",
    "    args[year] = year_files"
   ]
  },
  {
   "cell_type": "code",
   "execution_count": null,
   "id": "6aee9cb2",
   "metadata": {
    "ExecuteTime": {
     "end_time": "2022-08-28T13:02:31.260271Z",
     "start_time": "2022-08-28T13:02:31.257290Z"
    },
    "hidden": true
   },
   "outputs": [],
   "source": [
    "from pickle import dump, HIGHEST_PROTOCOL\n",
    "with open('data/args.pcl', 'wb') as handle:\n",
    "    dump(args, handle, protocol=HIGHEST_PROTOCOL)"
   ]
  },
  {
   "cell_type": "code",
   "execution_count": null,
   "id": "995a8e0b",
   "metadata": {
    "ExecuteTime": {
     "end_time": "2022-08-28T13:02:31.540697Z",
     "start_time": "2022-08-28T13:02:31.410174Z"
    },
    "hidden": true
   },
   "outputs": [],
   "source": [
    "from pickle import load\n",
    "with open('data/args.pcl', 'rb') as handle:\n",
    "    args = load(handle)"
   ]
  },
  {
   "cell_type": "code",
   "execution_count": null,
   "id": "4032ecb3",
   "metadata": {
    "ExecuteTime": {
     "end_time": "2022-08-28T13:02:32.866804Z",
     "start_time": "2022-08-28T13:02:32.860591Z"
    },
    "hidden": true
   },
   "outputs": [],
   "source": [
    "def dqf_preprocess(ds):\n",
    "    # flags\n",
    "    # 0 high_quality_retrieval_qf \n",
    "    # 1 medium_quality_retrieval_qf \n",
    "    # 2 low_quality_retrieval_qf \n",
    "    # 3 no_retrieval_qf\n",
    "    global contiguous_us\n",
    "    ds = ds[['AOD', 'DQF', 'goes_imager_projection']].where(ds.DQF < 2)\n",
    "    \n",
    "    new = change_xy_to_geospatial(ds, 'AOD')\n",
    "    _, proj = get_projection(new, 'AOD')\n",
    "    new.rio.write_crs(proj.to_string(), inplace=True)\n",
    "    \n",
    "    contiguous_us = contiguous_us.to_crs(new.rio.crs)\n",
    "    clipped = new['AOD'].rio.clip(contiguous_us.geometry.apply(mapping))\n",
    "    \n",
    "    new['AOD'] = clipped\n",
    "    ds.AOD.data = new['AOD'].data\n",
    "    \n",
    "    return ds\n",
    "\n",
    "def take_hourly_average(multifile_input_path, output_directory, output_filename):\n",
    "    output_path = os.path.join(output_directory, output_filename)\n",
    "    \n",
    "    if os.path.exists(output_path):\n",
    "        return\n",
    "\n",
    "    ds = xr.open_mfdataset(\n",
    "        sorted(multifile_input_path), \n",
    "        concat_dim=\"t\", \n",
    "        parallel=True, \n",
    "        combine='nested',\n",
    "        data_vars='different', \n",
    "        preprocess = dqf_preprocess\n",
    "    )\n",
    "    \n",
    "    ds['goes_imager_projection'] = ds.isel(t=0, x=0, y=0)['goes_imager_projection']\n",
    "    \n",
    "    avg = ds[['AOD', 'goes_imager_projection']].resample(t='1H').mean()\n",
    "    del avg.attrs['crs']\n",
    "    avg.to_netcdf(output_path)"
   ]
  },
  {
   "cell_type": "code",
   "execution_count": null,
   "id": "5e191832",
   "metadata": {
    "ExecuteTime": {
     "end_time": "2022-08-28T13:02:34.416664Z",
     "start_time": "2022-08-28T13:02:34.413543Z"
    },
    "hidden": true
   },
   "outputs": [],
   "source": [
    "def run_args(args):\n",
    "    errored_args = {}\n",
    "\n",
    "    day_bar = tqdm(args.items())\n",
    "    for day, params in day_bar:\n",
    "        day_bar.set_description(f'{day}')\n",
    "        for param in tqdm(params):\n",
    "            try:\n",
    "                take_hourly_average(**param)\n",
    "            except Exception:\n",
    "                existing = errored_args.get(day, [])\n",
    "                existing.append(param)\n",
    "                errored_args[day] = existing\n",
    "    \n",
    "    return errored_args"
   ]
  },
  {
   "cell_type": "code",
   "execution_count": null,
   "id": "9dfa0793",
   "metadata": {
    "ExecuteTime": {
     "end_time": "2022-08-28T13:02:35.430910Z",
     "start_time": "2022-08-28T13:02:35.427693Z"
    },
    "hidden": true,
    "scrolled": true
   },
   "outputs": [],
   "source": [
    "# errors_2017 = run_args(args['2017'])"
   ]
  },
  {
   "cell_type": "code",
   "execution_count": null,
   "id": "0b621cb8",
   "metadata": {
    "ExecuteTime": {
     "end_time": "2022-08-28T13:02:36.080891Z",
     "start_time": "2022-08-28T13:02:36.078350Z"
    },
    "hidden": true
   },
   "outputs": [],
   "source": [
    "# from pickle import dump, HIGHEST_PROTOCOL\n",
    "# with open('data/2017-errors.pcl', 'wb') as handle:\n",
    "#     dump(errors_2017, handle, protocol=HIGHEST_PROTOCOL)"
   ]
  },
  {
   "cell_type": "code",
   "execution_count": null,
   "id": "94a51d03",
   "metadata": {
    "ExecuteTime": {
     "end_time": "2022-08-28T13:02:37.185249Z",
     "start_time": "2022-08-28T13:02:37.181796Z"
    },
    "hidden": true
   },
   "outputs": [],
   "source": [
    "# errors_2018 = run_args(args['2018'])"
   ]
  },
  {
   "cell_type": "code",
   "execution_count": null,
   "id": "9825209d",
   "metadata": {
    "ExecuteTime": {
     "end_time": "2022-08-28T13:02:38.129292Z",
     "start_time": "2022-08-28T13:02:38.127058Z"
    },
    "hidden": true
   },
   "outputs": [],
   "source": [
    "# from pickle import dump, HIGHEST_PROTOCOL\n",
    "# with open('data/2018-errors.pcl', 'wb') as handle:\n",
    "#     dump(errors_2018, handle, protocol=HIGHEST_PROTOCOL)"
   ]
  },
  {
   "cell_type": "code",
   "execution_count": null,
   "id": "66dee9e8",
   "metadata": {
    "ExecuteTime": {
     "end_time": "2022-08-28T13:02:38.717572Z",
     "start_time": "2022-08-28T13:02:38.714986Z"
    },
    "hidden": true
   },
   "outputs": [],
   "source": [
    "# errors_2019 = run_args(args['2019'])"
   ]
  },
  {
   "cell_type": "code",
   "execution_count": null,
   "id": "6ec4f11f",
   "metadata": {
    "ExecuteTime": {
     "end_time": "2022-08-28T13:02:40.116476Z",
     "start_time": "2022-08-28T13:02:40.113598Z"
    },
    "hidden": true
   },
   "outputs": [],
   "source": [
    "# from pickle import dump, HIGHEST_PROTOCOL\n",
    "# with open('data/2019-errors.pcl', 'wb') as handle:\n",
    "#     dump(errors_2019, handle, protocol=HIGHEST_PROTOCOL)"
   ]
  },
  {
   "cell_type": "code",
   "execution_count": null,
   "id": "0b5c7ac4",
   "metadata": {
    "ExecuteTime": {
     "end_time": "2022-08-28T15:30:28.404624Z",
     "start_time": "2022-08-28T13:02:42.665336Z"
    },
    "hidden": true
   },
   "outputs": [],
   "source": [
    "errors_2020 = run_args(args['2020'])"
   ]
  },
  {
   "cell_type": "code",
   "execution_count": null,
   "id": "94ba1e9c",
   "metadata": {
    "ExecuteTime": {
     "end_time": "2022-08-28T15:30:28.424719Z",
     "start_time": "2022-08-28T15:30:28.418065Z"
    },
    "hidden": true
   },
   "outputs": [],
   "source": [
    "from pickle import dump, HIGHEST_PROTOCOL\n",
    "with open('data/2020-errors.pcl', 'wb') as handle:\n",
    "    dump(errors_2020, handle, protocol=HIGHEST_PROTOCOL)"
   ]
  },
  {
   "cell_type": "markdown",
   "id": "9b04b5d3",
   "metadata": {
    "heading_collapsed": true
   },
   "source": [
    "# Averaging Per Day"
   ]
  },
  {
   "cell_type": "code",
   "execution_count": null,
   "id": "d31ec469",
   "metadata": {
    "ExecuteTime": {
     "end_time": "2022-08-29T13:01:14.161527Z",
     "start_time": "2022-08-29T13:01:14.158206Z"
    },
    "hidden": true
   },
   "outputs": [],
   "source": [
    "data_directory = '/Volumes/Shores/GOES/AODC/averages'"
   ]
  },
  {
   "cell_type": "code",
   "execution_count": null,
   "id": "fc59d0ab",
   "metadata": {
    "ExecuteTime": {
     "start_time": "2022-08-29T13:01:14.285Z"
    },
    "hidden": true
   },
   "outputs": [],
   "source": [
    "year_bar = tqdm(['2017', '2018', '2019', '2020'])\n",
    "\n",
    "errors = {}\n",
    "\n",
    "for year in year_bar:\n",
    "    year_bar.set_description(year)\n",
    "    daily_average_directory = os.path.join(data_directory, year, 'daily')\n",
    "    year_directory = os.path.join(data_directory, year)\n",
    "    \n",
    "    os.makedirs(daily_average_directory, exist_ok=True)\n",
    "    \n",
    "    days = list(listdir(year_directory))\n",
    "    day_bar = tqdm(days)\n",
    "    for day in day_bar:\n",
    "        try:\n",
    "            day_bar.set_description(day)\n",
    "\n",
    "            out = os.path.join(daily_average_directory, f'{day}.nc')\n",
    "\n",
    "            if os.path.exists(out):\n",
    "                continue\n",
    "\n",
    "            day_path = os.path.join(year_directory, day)\n",
    "\n",
    "            if 'daily' in day_path:\n",
    "                continue\n",
    "\n",
    "            hours = sorted([os.path.join(day_path, i) for i in listdir(day_path)])\n",
    "            if len(hours) > 0:\n",
    "                ds = xr.open_mfdataset(\n",
    "                    hours,\n",
    "                    concat_dim=\"t\", \n",
    "                    parallel=True, \n",
    "                    combine='nested',\n",
    "                    data_vars='different'\n",
    "                )\n",
    "\n",
    "                daily_average = ds.resample(t='1D').mean()\n",
    "                daily_average['goes_imager_projection'] = daily_average.goes_imager_projection.isel(t=0)\n",
    "                daily_average.to_netcdf(out)\n",
    "\n",
    "                del ds\n",
    "                del daily_average\n",
    "        except:\n",
    "            existing = errors.get(year, [])\n",
    "            existing.append(day)\n",
    "            errors[year] = existing"
   ]
  },
  {
   "cell_type": "code",
   "execution_count": null,
   "id": "b81340cc",
   "metadata": {
    "ExecuteTime": {
     "end_time": "2022-08-29T00:52:16.761386Z",
     "start_time": "2022-08-29T00:52:16.710558Z"
    },
    "hidden": true
   },
   "outputs": [],
   "source": [
    "ds.sel(t=pd.to_datetime(int(day)-1, unit='D', origin=year).strftime('%Y-%m-%d')).resample(t='1d').mean()"
   ]
  }
 ],
 "metadata": {
  "kernelspec": {
   "display_name": "Python 3 (ipykernel)",
   "language": "python",
   "name": "python3"
  },
  "language_info": {
   "codemirror_mode": {
    "name": "ipython",
    "version": 3
   },
   "file_extension": ".py",
   "mimetype": "text/x-python",
   "name": "python",
   "nbconvert_exporter": "python",
   "pygments_lexer": "ipython3",
   "version": "3.10.5"
  }
 },
 "nbformat": 4,
 "nbformat_minor": 5
}
