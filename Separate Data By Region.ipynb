{
 "cells": [
  {
   "cell_type": "code",
   "execution_count": null,
   "source": [
    "import geopandas as gpd\n",
    "import rioxarray"
   ],
   "outputs": [],
   "metadata": {
    "hidden": true
   }
  },
  {
   "cell_type": "code",
   "execution_count": null,
   "source": [
    "gdf = gpd.read_file('/Users/kyle/Downloads/tx_eco_l4/tx_eco_l4.shp')"
   ],
   "outputs": [],
   "metadata": {
    "hidden": true
   }
  },
  {
   "cell_type": "code",
   "execution_count": null,
   "source": [
    "gdf = gdf.to_crs('EPSG:4326')"
   ],
   "outputs": [],
   "metadata": {
    "hidden": true
   }
  },
  {
   "cell_type": "code",
   "execution_count": null,
   "source": [
    "coast = gdf.where(gdf['US_L3NAME'] == 'Western Gulf Coastal Plain')"
   ],
   "outputs": [],
   "metadata": {
    "hidden": true
   }
  },
  {
   "cell_type": "code",
   "execution_count": null,
   "source": [
    "coast.plot()"
   ],
   "outputs": [],
   "metadata": {
    "hidden": true
   }
  },
  {
   "cell_type": "code",
   "execution_count": null,
   "source": [
    "xr_train = train.reset_index().set_index(['time', 'lat', 'lon']).to_xarray()"
   ],
   "outputs": [],
   "metadata": {
    "hidden": true
   }
  },
  {
   "cell_type": "code",
   "execution_count": null,
   "source": [
    "xr_train.rio.set_spatial_dims('lon', 'lat', inplace=True)\n",
    "xr_train.rio.write_crs('EPSG:4326', inplace=True)\n",
    "\n",
    "clipped = xr_train.rio.clip(\n",
    "    [coast.__geo_interface__['features'][0]['geometry']], \n",
    "    crs='EPSG:4326', all_touched=True\n",
    ")"
   ],
   "outputs": [],
   "metadata": {
    "hidden": true
   }
  },
  {
   "cell_type": "code",
   "execution_count": null,
   "source": [
    "clipped.sel(time='2010-01-01')"
   ],
   "outputs": [],
   "metadata": {
    "hidden": true
   }
  }
 ],
 "metadata": {
  "orig_nbformat": 4,
  "language_info": {
   "name": "python"
  }
 },
 "nbformat": 4,
 "nbformat_minor": 2
}